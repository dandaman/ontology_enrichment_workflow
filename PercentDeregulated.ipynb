{
 "cells": [
  {
   "cell_type": "code",
   "execution_count": 1,
   "metadata": {},
   "outputs": [
    {
     "name": "stderr",
     "output_type": "stream",
     "text": [
      "Loading required package: DBI\n"
     ]
    }
   ],
   "source": [
    "library(RPostgreSQL)\n",
    "library(ontologyIndex)\n",
    "library(ontologySimilarity)\n",
    "library(data.table)"
   ]
  },
  {
   "cell_type": "code",
   "execution_count": 2,
   "metadata": {},
   "outputs": [],
   "source": [
    "con = dbConnect(PostgreSQL(),dbname = 'yourdb', \n",
    "                 host = 'yourhost',\n",
    "                 port = 0000)"
   ]
  },
  {
   "cell_type": "code",
   "execution_count": 3,
   "metadata": {},
   "outputs": [
    {
     "name": "stderr",
     "output_type": "stream",
     "text": [
      "Warning message in (function (parents, id = names(parents), name = id, obsolete = setNames(nm = id, :\n",
      "“Some parent terms not found: NCBITaxon:3398, NCBITaxon:33090”"
     ]
    }
   ],
   "source": [
    "go=get_ontology(\"ontologies/go.obo\", propagate_relationships=get_relation_names(\"ontologies/go.obo\")[-c(4)])\n",
    "po=get_ontology(\"ontologies/po.obo\", propagate_relationships=get_relation_names(\"ontologies/po.obo\")[-c(4)])"
   ]
  },
  {
   "cell_type": "code",
   "execution_count": 4,
   "metadata": {},
   "outputs": [],
   "source": [
    "gos=get_ontology(\"slim/goslim_plant.obo\", propagate_relationships=get_relation_names(\"ontologies/go.obo\")[-c(4)])"
   ]
  },
  {
   "cell_type": "code",
   "execution_count": 5,
   "metadata": {},
   "outputs": [],
   "source": [
    "goic=descendants_IC(go)\n",
    "poic=descendants_IC(po)"
   ]
  },
  {
   "cell_type": "code",
   "execution_count": 6,
   "metadata": {},
   "outputs": [],
   "source": [
    "go.no=go$id[! go$obsolete]\n",
    "po.no=po$id[! po$obsolete]"
   ]
  },
  {
   "cell_type": "code",
   "execution_count": 7,
   "metadata": {},
   "outputs": [],
   "source": [
    "gos.no=gos$id[! gos$obsolete]"
   ]
  },
  {
   "cell_type": "code",
   "execution_count": 8,
   "metadata": {},
   "outputs": [
    {
     "data": {
      "text/html": [
       "108"
      ],
      "text/latex": [
       "108"
      ],
      "text/markdown": [
       "108"
      ],
      "text/plain": [
       "[1] 108"
      ]
     },
     "metadata": {},
     "output_type": "display_data"
    }
   ],
   "source": [
    "length(gos.no)"
   ]
  },
  {
   "cell_type": "code",
   "execution_count": 9,
   "metadata": {},
   "outputs": [],
   "source": [
    "big.p=list(\"plant anatomical entity\"=c(\"PO:0025131\"),\"plant structure development stage\"=c(\"PO:0009012\"))\n",
    "big.g=list(\"biological process\"=(\"GO:0008150\"),\"molecular function\"=(\"GO:0003674\"),\"cellular component\"=c(\"GO:0005575\"))"
   ]
  },
  {
   "cell_type": "markdown",
   "metadata": {},
   "source": [
    "The `physcogrn.ontology` table is provided as a postgres plaintext dump as part of the data archive:\n",
    "`genome_annotation/pg_dump.ontology.sql`"
   ]
  },
  {
   "cell_type": "code",
   "execution_count": 10,
   "metadata": {},
   "outputs": [],
   "source": [
    "A=data.table(dbGetQuery(con,\"select * from physcogrn.ontology\"))\n",
    "setkey(A,\"geneid\")"
   ]
  },
  {
   "cell_type": "code",
   "execution_count": 11,
   "metadata": {},
   "outputs": [
    {
     "data": {
      "text/html": [
       "<table>\n",
       "<thead><tr><th scope=col>geneid</th><th scope=col>id</th><th scope=col>name</th><th scope=col>ontology</th><th scope=col>partition</th><th scope=col>ic</th></tr></thead>\n",
       "<tbody>\n",
       "\t<tr><td>Pp3c10_10040.mRNA                </td><td>GO:0032502                       </td><td>developmental process            </td><td>GO                               </td><td>biological_process               </td><td>1.989205                         </td></tr>\n",
       "\t<tr><td>Pp3c10_10040.mRNA                </td><td>PO:0000006                       </td><td>plant protoplast                 </td><td>PO                               </td><td>plant anatomical entity          </td><td>7.496097                         </td></tr>\n",
       "\t<tr><td>Pp3c10_10040.mRNA                </td><td>PO:0007134                       </td><td>sporophyte vegetative stage      </td><td>PO                               </td><td>plant structure development stage</td><td>3.089378                         </td></tr>\n",
       "\t<tr><td>Pp3c10_10040.mRNA                </td><td>PO:0025017                       </td><td>plant spore                      </td><td>PO                               </td><td>plant anatomical entity          </td><td>4.163893                         </td></tr>\n",
       "\t<tr><td>Pp3c10_10040.mRNA                </td><td>PO:0025075                       </td><td>non-vascular leaf                </td><td>PO                               </td><td>plant anatomical entity          </td><td>6.109803                         </td></tr>\n",
       "\t<tr><td>Pp3c10_10040.mRNA                </td><td>PO:0025094                       </td><td>sporangium                       </td><td>PO                               </td><td>plant anatomical entity          </td><td>3.385223                         </td></tr>\n",
       "</tbody>\n",
       "</table>\n"
      ],
      "text/latex": [
       "\\begin{tabular}{r|llllll}\n",
       " geneid & id & name & ontology & partition & ic\\\\\n",
       "\\hline\n",
       "\t Pp3c10\\_10040.mRNA                 & GO:0032502                          & developmental process               & GO                                  & biological\\_process                & 1.989205                           \\\\\n",
       "\t Pp3c10\\_10040.mRNA               & PO:0000006                        & plant protoplast                  & PO                                & plant anatomical entity           & 7.496097                         \\\\\n",
       "\t Pp3c10\\_10040.mRNA               & PO:0007134                        & sporophyte vegetative stage       & PO                                & plant structure development stage & 3.089378                         \\\\\n",
       "\t Pp3c10\\_10040.mRNA               & PO:0025017                        & plant spore                       & PO                                & plant anatomical entity           & 4.163893                         \\\\\n",
       "\t Pp3c10\\_10040.mRNA               & PO:0025075                        & non-vascular leaf                 & PO                                & plant anatomical entity           & 6.109803                         \\\\\n",
       "\t Pp3c10\\_10040.mRNA               & PO:0025094                        & sporangium                        & PO                                & plant anatomical entity           & 3.385223                         \\\\\n",
       "\\end{tabular}\n"
      ],
      "text/markdown": [
       "\n",
       "| geneid | id | name | ontology | partition | ic |\n",
       "|---|---|---|---|---|---|\n",
       "| Pp3c10_10040.mRNA                 | GO:0032502                        | developmental process             | GO                                | biological_process                | 1.989205                          |\n",
       "| Pp3c10_10040.mRNA                 | PO:0000006                        | plant protoplast                  | PO                                | plant anatomical entity           | 7.496097                          |\n",
       "| Pp3c10_10040.mRNA                 | PO:0007134                        | sporophyte vegetative stage       | PO                                | plant structure development stage | 3.089378                          |\n",
       "| Pp3c10_10040.mRNA                 | PO:0025017                        | plant spore                       | PO                                | plant anatomical entity           | 4.163893                          |\n",
       "| Pp3c10_10040.mRNA                 | PO:0025075                        | non-vascular leaf                 | PO                                | plant anatomical entity           | 6.109803                          |\n",
       "| Pp3c10_10040.mRNA                 | PO:0025094                        | sporangium                        | PO                                | plant anatomical entity           | 3.385223                          |\n",
       "\n"
      ],
      "text/plain": [
       "  geneid            id         name                        ontology\n",
       "1 Pp3c10_10040.mRNA GO:0032502 developmental process       GO      \n",
       "2 Pp3c10_10040.mRNA PO:0000006 plant protoplast            PO      \n",
       "3 Pp3c10_10040.mRNA PO:0007134 sporophyte vegetative stage PO      \n",
       "4 Pp3c10_10040.mRNA PO:0025017 plant spore                 PO      \n",
       "5 Pp3c10_10040.mRNA PO:0025075 non-vascular leaf           PO      \n",
       "6 Pp3c10_10040.mRNA PO:0025094 sporangium                  PO      \n",
       "  partition                         ic      \n",
       "1 biological_process                1.989205\n",
       "2 plant anatomical entity           7.496097\n",
       "3 plant structure development stage 3.089378\n",
       "4 plant anatomical entity           4.163893\n",
       "5 plant anatomical entity           6.109803\n",
       "6 plant anatomical entity           3.385223"
      ]
     },
     "metadata": {},
     "output_type": "display_data"
    }
   ],
   "source": [
    "head(A)"
   ]
  },
  {
   "cell_type": "markdown",
   "metadata": {},
   "source": [
    "The `physcogrn.dek1dge_full` table is provided as a postgres plaintext dump as part of the data archive:\n",
    "`dge_analysis/pg_dump.dek1dge_full.sql.gz`"
   ]
  },
  {
   "cell_type": "code",
   "execution_count": 12,
   "metadata": {},
   "outputs": [
    {
     "data": {
      "text/html": [
       "<table>\n",
       "<thead><tr><th scope=col>analysis</th><th scope=col>comparison</th><th scope=col>geneid</th><th scope=col>test_stat</th><th scope=col>pval_lrt</th><th scope=col>qval_lrt</th><th scope=col>rss</th><th scope=col>sigma_sq_lrt</th><th scope=col>mean_obs_lrt</th><th scope=col>var_obs_lrt</th><th scope=col>⋯</th><th scope=col>degrees_free</th><th scope=col>pval_wt</th><th scope=col>qval_wt</th><th scope=col>b</th><th scope=col>se_b</th><th scope=col>mean_obs_wt</th><th scope=col>var_obs_wt</th><th scope=col>sigma_sq_wt</th><th scope=col>smooth_sigma_sq_wt</th><th scope=col>direction</th></tr></thead>\n",
       "<tbody>\n",
       "\t<tr><td>mutants                    </td><td>deltaDEK_vs_OE             </td><td>Pp3c10_10040.mRNA          </td><td>17.930227                  </td><td>2.291527e-05               </td><td>0.0001249302               </td><td>1.8206054                  </td><td>0.08318425                 </td><td>5.044887                   </td><td>0.2883635                  </td><td>⋯                          </td><td>1                          </td><td>1.752075e-05               </td><td>0.0001010254               </td><td>-0.3666036                 </td><td>0.08536885                 </td><td>5.044887                   </td><td>0.2883635                  </td><td>0.04077941                 </td><td>0.03788209                 </td><td>down                       </td></tr>\n",
       "\t<tr><td>mutants                    </td><td>WT_vs_deltaDEK             </td><td>Pp3c10_10040.mRNA          </td><td>13.237744                  </td><td>2.743679e-04               </td><td>0.0022917472               </td><td>0.8884109                  </td><td>0.03265385                 </td><td>4.974050                   </td><td>0.3080945                  </td><td>⋯                          </td><td>1                          </td><td>6.726152e-04               </td><td>0.0053691432               </td><td> 0.2526475                 </td><td>0.07429706                 </td><td>4.974050                   </td><td>0.3080945                  </td><td>0.01242835                 </td><td>0.02898895                 </td><td>up                         </td></tr>\n",
       "\t<tr><td>mutants                    </td><td>WT_vs_LG3                  </td><td>Pp3c10_10040.mRNA          </td><td>17.190535                  </td><td>3.381168e-05               </td><td>0.0005689445               </td><td>2.6012278                  </td><td>0.11562669                 </td><td>5.169326                   </td><td>0.3094603                  </td><td>⋯                          </td><td>1                          </td><td>2.964255e-05               </td><td>0.0005090674               </td><td> 0.4160538                 </td><td>0.09962509                 </td><td>5.169326                   </td><td>0.3094603                  </td><td>0.06123482                 </td><td>0.02801242                 </td><td>up                         </td></tr>\n",
       "\t<tr><td>mutants                    </td><td>WT_vs_Loop                 </td><td>Pp3c10_10040.mRNA          </td><td>21.635354                  </td><td>3.297181e-06               </td><td>0.0001290050               </td><td>1.1912682                  </td><td>0.04843375                 </td><td>5.158884                   </td><td>0.2764954                  </td><td>⋯                          </td><td>1                          </td><td>5.050722e-06               </td><td>0.0001497580               </td><td> 0.3337355                 </td><td>0.07314479                 </td><td>5.158884                   </td><td>0.2764954                  </td><td>0.01228731                 </td><td>0.02915782                 </td><td>up                         </td></tr>\n",
       "\t<tr><td>mutants                    </td><td>WT_vs_OE                   </td><td>Pp3c10_10040.mRNA          </td><td> 4.537398                  </td><td>3.316197e-02               </td><td>0.0548333823               </td><td>0.9454529                  </td><td>0.03820108                 </td><td>4.928547                   </td><td>0.2750458                  </td><td>⋯                          </td><td>1                          </td><td>1.759982e-01               </td><td>0.3497000938               </td><td>-0.1124199                 </td><td>0.08307835                 </td><td>4.928547                   </td><td>0.2750458                  </td><td>0.03625100                 </td><td>0.03697957                 </td><td>down                       </td></tr>\n",
       "\t<tr><td>mutants                    </td><td>deltaDEK_vs_OE             </td><td>Pp3c10_10095.C_D_box_snoRNA</td><td> 9.841793                  </td><td>1.705911e-03               </td><td>0.0043152115               </td><td>1.9166657                  </td><td>0.02220745                 </td><td>2.709686                   </td><td>0.1332407                  </td><td>⋯                          </td><td>1                          </td><td>5.298674e-01               </td><td>0.6699749532               </td><td>-0.1185156                 </td><td>0.18865643                 </td><td>2.709686                   </td><td>0.1332407                  </td><td>0.02231886                 </td><td>0.16384365                 </td><td>down                       </td></tr>\n",
       "</tbody>\n",
       "</table>\n"
      ],
      "text/latex": [
       "\\begin{tabular}{r|lllllllllllllllllllll}\n",
       " analysis & comparison & geneid & test\\_stat & pval\\_lrt & qval\\_lrt & rss & sigma\\_sq\\_lrt & mean\\_obs\\_lrt & var\\_obs\\_lrt & ⋯ & degrees\\_free & pval\\_wt & qval\\_wt & b & se\\_b & mean\\_obs\\_wt & var\\_obs\\_wt & sigma\\_sq\\_wt & smooth\\_sigma\\_sq\\_wt & direction\\\\\n",
       "\\hline\n",
       "\t mutants                       & deltaDEK\\_vs\\_OE            & Pp3c10\\_10040.mRNA           & 17.930227                     & 2.291527e-05                  & 0.0001249302                  & 1.8206054                     & 0.08318425                    & 5.044887                      & 0.2883635                     & ⋯                             & 1                             & 1.752075e-05                  & 0.0001010254                  & -0.3666036                    & 0.08536885                    & 5.044887                      & 0.2883635                     & 0.04077941                    & 0.03788209                    & down                         \\\\\n",
       "\t mutants                       & WT\\_vs\\_deltaDEK            & Pp3c10\\_10040.mRNA           & 13.237744                     & 2.743679e-04                  & 0.0022917472                  & 0.8884109                     & 0.03265385                    & 4.974050                      & 0.3080945                     & ⋯                             & 1                             & 6.726152e-04                  & 0.0053691432                  &  0.2526475                    & 0.07429706                    & 4.974050                      & 0.3080945                     & 0.01242835                    & 0.02898895                    & up                           \\\\\n",
       "\t mutants                       & WT\\_vs\\_LG3                 & Pp3c10\\_10040.mRNA           & 17.190535                     & 3.381168e-05                  & 0.0005689445                  & 2.6012278                     & 0.11562669                    & 5.169326                      & 0.3094603                     & ⋯                             & 1                             & 2.964255e-05                  & 0.0005090674                  &  0.4160538                    & 0.09962509                    & 5.169326                      & 0.3094603                     & 0.06123482                    & 0.02801242                    & up                           \\\\\n",
       "\t mutants                       & WT\\_vs\\_Loop                & Pp3c10\\_10040.mRNA           & 21.635354                     & 3.297181e-06                  & 0.0001290050                  & 1.1912682                     & 0.04843375                    & 5.158884                      & 0.2764954                     & ⋯                             & 1                             & 5.050722e-06                  & 0.0001497580                  &  0.3337355                    & 0.07314479                    & 5.158884                      & 0.2764954                     & 0.01228731                    & 0.02915782                    & up                           \\\\\n",
       "\t mutants                       & WT\\_vs\\_OE                  & Pp3c10\\_10040.mRNA           &  4.537398                     & 3.316197e-02                  & 0.0548333823                  & 0.9454529                     & 0.03820108                    & 4.928547                      & 0.2750458                     & ⋯                             & 1                             & 1.759982e-01                  & 0.3497000938                  & -0.1124199                    & 0.08307835                    & 4.928547                      & 0.2750458                     & 0.03625100                    & 0.03697957                    & down                         \\\\\n",
       "\t mutants                             & deltaDEK\\_vs\\_OE                  & Pp3c10\\_10095.C\\_D\\_box\\_snoRNA &  9.841793                           & 1.705911e-03                        & 0.0043152115                        & 1.9166657                           & 0.02220745                          & 2.709686                            & 0.1332407                           & ⋯                                   & 1                                   & 5.298674e-01                        & 0.6699749532                        & -0.1185156                          & 0.18865643                          & 2.709686                            & 0.1332407                           & 0.02231886                          & 0.16384365                          & down                               \\\\\n",
       "\\end{tabular}\n"
      ],
      "text/markdown": [
       "\n",
       "| analysis | comparison | geneid | test_stat | pval_lrt | qval_lrt | rss | sigma_sq_lrt | mean_obs_lrt | var_obs_lrt | ⋯ | degrees_free | pval_wt | qval_wt | b | se_b | mean_obs_wt | var_obs_wt | sigma_sq_wt | smooth_sigma_sq_wt | direction |\n",
       "|---|---|---|---|---|---|---|---|---|---|---|---|---|---|---|---|---|---|---|---|---|\n",
       "| mutants                     | deltaDEK_vs_OE              | Pp3c10_10040.mRNA           | 17.930227                   | 2.291527e-05                | 0.0001249302                | 1.8206054                   | 0.08318425                  | 5.044887                    | 0.2883635                   | ⋯                           | 1                           | 1.752075e-05                | 0.0001010254                | -0.3666036                  | 0.08536885                  | 5.044887                    | 0.2883635                   | 0.04077941                  | 0.03788209                  | down                        |\n",
       "| mutants                     | WT_vs_deltaDEK              | Pp3c10_10040.mRNA           | 13.237744                   | 2.743679e-04                | 0.0022917472                | 0.8884109                   | 0.03265385                  | 4.974050                    | 0.3080945                   | ⋯                           | 1                           | 6.726152e-04                | 0.0053691432                |  0.2526475                  | 0.07429706                  | 4.974050                    | 0.3080945                   | 0.01242835                  | 0.02898895                  | up                          |\n",
       "| mutants                     | WT_vs_LG3                   | Pp3c10_10040.mRNA           | 17.190535                   | 3.381168e-05                | 0.0005689445                | 2.6012278                   | 0.11562669                  | 5.169326                    | 0.3094603                   | ⋯                           | 1                           | 2.964255e-05                | 0.0005090674                |  0.4160538                  | 0.09962509                  | 5.169326                    | 0.3094603                   | 0.06123482                  | 0.02801242                  | up                          |\n",
       "| mutants                     | WT_vs_Loop                  | Pp3c10_10040.mRNA           | 21.635354                   | 3.297181e-06                | 0.0001290050                | 1.1912682                   | 0.04843375                  | 5.158884                    | 0.2764954                   | ⋯                           | 1                           | 5.050722e-06                | 0.0001497580                |  0.3337355                  | 0.07314479                  | 5.158884                    | 0.2764954                   | 0.01228731                  | 0.02915782                  | up                          |\n",
       "| mutants                     | WT_vs_OE                    | Pp3c10_10040.mRNA           |  4.537398                   | 3.316197e-02                | 0.0548333823                | 0.9454529                   | 0.03820108                  | 4.928547                    | 0.2750458                   | ⋯                           | 1                           | 1.759982e-01                | 0.3497000938                | -0.1124199                  | 0.08307835                  | 4.928547                    | 0.2750458                   | 0.03625100                  | 0.03697957                  | down                        |\n",
       "| mutants                     | deltaDEK_vs_OE              | Pp3c10_10095.C_D_box_snoRNA |  9.841793                   | 1.705911e-03                | 0.0043152115                | 1.9166657                   | 0.02220745                  | 2.709686                    | 0.1332407                   | ⋯                           | 1                           | 5.298674e-01                | 0.6699749532                | -0.1185156                  | 0.18865643                  | 2.709686                    | 0.1332407                   | 0.02231886                  | 0.16384365                  | down                        |\n",
       "\n"
      ],
      "text/plain": [
       "  analysis comparison     geneid                      test_stat pval_lrt    \n",
       "1 mutants  deltaDEK_vs_OE Pp3c10_10040.mRNA           17.930227 2.291527e-05\n",
       "2 mutants  WT_vs_deltaDEK Pp3c10_10040.mRNA           13.237744 2.743679e-04\n",
       "3 mutants  WT_vs_LG3      Pp3c10_10040.mRNA           17.190535 3.381168e-05\n",
       "4 mutants  WT_vs_Loop     Pp3c10_10040.mRNA           21.635354 3.297181e-06\n",
       "5 mutants  WT_vs_OE       Pp3c10_10040.mRNA            4.537398 3.316197e-02\n",
       "6 mutants  deltaDEK_vs_OE Pp3c10_10095.C_D_box_snoRNA  9.841793 1.705911e-03\n",
       "  qval_lrt     rss       sigma_sq_lrt mean_obs_lrt var_obs_lrt ⋯ degrees_free\n",
       "1 0.0001249302 1.8206054 0.08318425   5.044887     0.2883635   ⋯ 1           \n",
       "2 0.0022917472 0.8884109 0.03265385   4.974050     0.3080945   ⋯ 1           \n",
       "3 0.0005689445 2.6012278 0.11562669   5.169326     0.3094603   ⋯ 1           \n",
       "4 0.0001290050 1.1912682 0.04843375   5.158884     0.2764954   ⋯ 1           \n",
       "5 0.0548333823 0.9454529 0.03820108   4.928547     0.2750458   ⋯ 1           \n",
       "6 0.0043152115 1.9166657 0.02220745   2.709686     0.1332407   ⋯ 1           \n",
       "  pval_wt      qval_wt      b          se_b       mean_obs_wt var_obs_wt\n",
       "1 1.752075e-05 0.0001010254 -0.3666036 0.08536885 5.044887    0.2883635 \n",
       "2 6.726152e-04 0.0053691432  0.2526475 0.07429706 4.974050    0.3080945 \n",
       "3 2.964255e-05 0.0005090674  0.4160538 0.09962509 5.169326    0.3094603 \n",
       "4 5.050722e-06 0.0001497580  0.3337355 0.07314479 5.158884    0.2764954 \n",
       "5 1.759982e-01 0.3497000938 -0.1124199 0.08307835 4.928547    0.2750458 \n",
       "6 5.298674e-01 0.6699749532 -0.1185156 0.18865643 2.709686    0.1332407 \n",
       "  sigma_sq_wt smooth_sigma_sq_wt direction\n",
       "1 0.04077941  0.03788209         down     \n",
       "2 0.01242835  0.02898895         up       \n",
       "3 0.06123482  0.02801242         up       \n",
       "4 0.01228731  0.02915782         up       \n",
       "5 0.03625100  0.03697957         down     \n",
       "6 0.02231886  0.16384365         down     "
      ]
     },
     "metadata": {},
     "output_type": "display_data"
    }
   ],
   "source": [
    "D=data.table(dbGetQuery(con,\"select * from physcogrn.dek1dge_full where analysis = 'mutants' and qval_lrt < 0.1 \"))\n",
    "setkeyv(D,c(\"geneid\"))\n",
    "head(D)"
   ]
  },
  {
   "cell_type": "code",
   "execution_count": 13,
   "metadata": {},
   "outputs": [
    {
     "data": {
      "text/html": [
       "<table>\n",
       "<thead><tr><th scope=col>geneid</th><th scope=col>analysis</th><th scope=col>comparison</th><th scope=col>test_stat</th><th scope=col>pval_lrt</th><th scope=col>qval_lrt</th><th scope=col>rss</th><th scope=col>sigma_sq_lrt</th><th scope=col>mean_obs_lrt</th><th scope=col>var_obs_lrt</th><th scope=col>⋯</th><th scope=col>mean_obs_wt</th><th scope=col>var_obs_wt</th><th scope=col>sigma_sq_wt</th><th scope=col>smooth_sigma_sq_wt</th><th scope=col>direction</th><th scope=col>id</th><th scope=col>name</th><th scope=col>ontology</th><th scope=col>partition</th><th scope=col>ic</th></tr></thead>\n",
       "<tbody>\n",
       "\t<tr><td>Pp3c10_10040.mRNA </td><td>mutants           </td><td>deltaDEK_vs_OE    </td><td>17.930227         </td><td>2.291527e-05      </td><td>0.0001249302      </td><td>1.8206054         </td><td>0.08318425        </td><td>5.044887          </td><td>0.2883635         </td><td>⋯                 </td><td>5.044887          </td><td>0.2883635         </td><td>0.04077941        </td><td>0.03788209        </td><td>down              </td><td>GO:0005634        </td><td>nucleus           </td><td>GO                </td><td>cellular_component</td><td>4.345686          </td></tr>\n",
       "\t<tr><td>Pp3c10_10040.mRNA </td><td>mutants           </td><td>WT_vs_deltaDEK    </td><td>13.237744         </td><td>2.743679e-04      </td><td>0.0022917472      </td><td>0.8884109         </td><td>0.03265385        </td><td>4.974050          </td><td>0.3080945         </td><td>⋯                 </td><td>4.974050          </td><td>0.3080945         </td><td>0.01242835        </td><td>0.02898895        </td><td>up                </td><td>GO:0005634        </td><td>nucleus           </td><td>GO                </td><td>cellular_component</td><td>4.345686          </td></tr>\n",
       "\t<tr><td>Pp3c10_10040.mRNA </td><td>mutants           </td><td>WT_vs_LG3         </td><td>17.190535         </td><td>3.381168e-05      </td><td>0.0005689445      </td><td>2.6012278         </td><td>0.11562669        </td><td>5.169326          </td><td>0.3094603         </td><td>⋯                 </td><td>5.169326          </td><td>0.3094603         </td><td>0.06123482        </td><td>0.02801242        </td><td>up                </td><td>GO:0005634        </td><td>nucleus           </td><td>GO                </td><td>cellular_component</td><td>4.345686          </td></tr>\n",
       "\t<tr><td>Pp3c10_10040.mRNA </td><td>mutants           </td><td>WT_vs_Loop        </td><td>21.635354         </td><td>3.297181e-06      </td><td>0.0001290050      </td><td>1.1912682         </td><td>0.04843375        </td><td>5.158884          </td><td>0.2764954         </td><td>⋯                 </td><td>5.158884          </td><td>0.2764954         </td><td>0.01228731        </td><td>0.02915782        </td><td>up                </td><td>GO:0005634        </td><td>nucleus           </td><td>GO                </td><td>cellular_component</td><td>4.345686          </td></tr>\n",
       "\t<tr><td>Pp3c10_10040.mRNA </td><td>mutants           </td><td>WT_vs_OE          </td><td> 4.537398         </td><td>3.316197e-02      </td><td>0.0548333823      </td><td>0.9454529         </td><td>0.03820108        </td><td>4.928547          </td><td>0.2750458         </td><td>⋯                 </td><td>4.928547          </td><td>0.2750458         </td><td>0.03625100        </td><td>0.03697957        </td><td>down              </td><td>GO:0005634        </td><td>nucleus           </td><td>GO                </td><td>cellular_component</td><td>4.345686          </td></tr>\n",
       "\t<tr><td>Pp3c10_10040.mRNA </td><td>mutants           </td><td>deltaDEK_vs_OE    </td><td>17.930227         </td><td>2.291527e-05      </td><td>0.0001249302      </td><td>1.8206054         </td><td>0.08318425        </td><td>5.044887          </td><td>0.2883635         </td><td>⋯                 </td><td>5.044887          </td><td>0.2883635         </td><td>0.04077941        </td><td>0.03788209        </td><td>down              </td><td>GO:0005829        </td><td>cytosol           </td><td>GO                </td><td>cellular_component</td><td>5.809854          </td></tr>\n",
       "</tbody>\n",
       "</table>\n"
      ],
      "text/latex": [
       "\\begin{tabular}{r|llllllllllllllllllllllllll}\n",
       " geneid & analysis & comparison & test\\_stat & pval\\_lrt & qval\\_lrt & rss & sigma\\_sq\\_lrt & mean\\_obs\\_lrt & var\\_obs\\_lrt & ⋯ & mean\\_obs\\_wt & var\\_obs\\_wt & sigma\\_sq\\_wt & smooth\\_sigma\\_sq\\_wt & direction & id & name & ontology & partition & ic\\\\\n",
       "\\hline\n",
       "\t Pp3c10\\_10040.mRNA  & mutants              & deltaDEK\\_vs\\_OE   & 17.930227            & 2.291527e-05         & 0.0001249302         & 1.8206054            & 0.08318425           & 5.044887             & 0.2883635            & ⋯                    & 5.044887             & 0.2883635            & 0.04077941           & 0.03788209           & down                 & GO:0005634           & nucleus              & GO                   & cellular\\_component & 4.345686            \\\\\n",
       "\t Pp3c10\\_10040.mRNA  & mutants              & WT\\_vs\\_deltaDEK   & 13.237744            & 2.743679e-04         & 0.0022917472         & 0.8884109            & 0.03265385           & 4.974050             & 0.3080945            & ⋯                    & 4.974050             & 0.3080945            & 0.01242835           & 0.02898895           & up                   & GO:0005634           & nucleus              & GO                   & cellular\\_component & 4.345686            \\\\\n",
       "\t Pp3c10\\_10040.mRNA  & mutants              & WT\\_vs\\_LG3        & 17.190535            & 3.381168e-05         & 0.0005689445         & 2.6012278            & 0.11562669           & 5.169326             & 0.3094603            & ⋯                    & 5.169326             & 0.3094603            & 0.06123482           & 0.02801242           & up                   & GO:0005634           & nucleus              & GO                   & cellular\\_component & 4.345686            \\\\\n",
       "\t Pp3c10\\_10040.mRNA  & mutants              & WT\\_vs\\_Loop       & 21.635354            & 3.297181e-06         & 0.0001290050         & 1.1912682            & 0.04843375           & 5.158884             & 0.2764954            & ⋯                    & 5.158884             & 0.2764954            & 0.01228731           & 0.02915782           & up                   & GO:0005634           & nucleus              & GO                   & cellular\\_component & 4.345686            \\\\\n",
       "\t Pp3c10\\_10040.mRNA  & mutants              & WT\\_vs\\_OE         &  4.537398            & 3.316197e-02         & 0.0548333823         & 0.9454529            & 0.03820108           & 4.928547             & 0.2750458            & ⋯                    & 4.928547             & 0.2750458            & 0.03625100           & 0.03697957           & down                 & GO:0005634           & nucleus              & GO                   & cellular\\_component & 4.345686            \\\\\n",
       "\t Pp3c10\\_10040.mRNA  & mutants              & deltaDEK\\_vs\\_OE   & 17.930227            & 2.291527e-05         & 0.0001249302         & 1.8206054            & 0.08318425           & 5.044887             & 0.2883635            & ⋯                    & 5.044887             & 0.2883635            & 0.04077941           & 0.03788209           & down                 & GO:0005829           & cytosol              & GO                   & cellular\\_component & 5.809854            \\\\\n",
       "\\end{tabular}\n"
      ],
      "text/markdown": [
       "\n",
       "| geneid | analysis | comparison | test_stat | pval_lrt | qval_lrt | rss | sigma_sq_lrt | mean_obs_lrt | var_obs_lrt | ⋯ | mean_obs_wt | var_obs_wt | sigma_sq_wt | smooth_sigma_sq_wt | direction | id | name | ontology | partition | ic |\n",
       "|---|---|---|---|---|---|---|---|---|---|---|---|---|---|---|---|---|---|---|---|---|\n",
       "| Pp3c10_10040.mRNA  | mutants            | deltaDEK_vs_OE     | 17.930227          | 2.291527e-05       | 0.0001249302       | 1.8206054          | 0.08318425         | 5.044887           | 0.2883635          | ⋯                  | 5.044887           | 0.2883635          | 0.04077941         | 0.03788209         | down               | GO:0005634         | nucleus            | GO                 | cellular_component | 4.345686           |\n",
       "| Pp3c10_10040.mRNA  | mutants            | WT_vs_deltaDEK     | 13.237744          | 2.743679e-04       | 0.0022917472       | 0.8884109          | 0.03265385         | 4.974050           | 0.3080945          | ⋯                  | 4.974050           | 0.3080945          | 0.01242835         | 0.02898895         | up                 | GO:0005634         | nucleus            | GO                 | cellular_component | 4.345686           |\n",
       "| Pp3c10_10040.mRNA  | mutants            | WT_vs_LG3          | 17.190535          | 3.381168e-05       | 0.0005689445       | 2.6012278          | 0.11562669         | 5.169326           | 0.3094603          | ⋯                  | 5.169326           | 0.3094603          | 0.06123482         | 0.02801242         | up                 | GO:0005634         | nucleus            | GO                 | cellular_component | 4.345686           |\n",
       "| Pp3c10_10040.mRNA  | mutants            | WT_vs_Loop         | 21.635354          | 3.297181e-06       | 0.0001290050       | 1.1912682          | 0.04843375         | 5.158884           | 0.2764954          | ⋯                  | 5.158884           | 0.2764954          | 0.01228731         | 0.02915782         | up                 | GO:0005634         | nucleus            | GO                 | cellular_component | 4.345686           |\n",
       "| Pp3c10_10040.mRNA  | mutants            | WT_vs_OE           |  4.537398          | 3.316197e-02       | 0.0548333823       | 0.9454529          | 0.03820108         | 4.928547           | 0.2750458          | ⋯                  | 4.928547           | 0.2750458          | 0.03625100         | 0.03697957         | down               | GO:0005634         | nucleus            | GO                 | cellular_component | 4.345686           |\n",
       "| Pp3c10_10040.mRNA  | mutants            | deltaDEK_vs_OE     | 17.930227          | 2.291527e-05       | 0.0001249302       | 1.8206054          | 0.08318425         | 5.044887           | 0.2883635          | ⋯                  | 5.044887           | 0.2883635          | 0.04077941         | 0.03788209         | down               | GO:0005829         | cytosol            | GO                 | cellular_component | 5.809854           |\n",
       "\n"
      ],
      "text/plain": [
       "  geneid            analysis comparison     test_stat pval_lrt     qval_lrt    \n",
       "1 Pp3c10_10040.mRNA mutants  deltaDEK_vs_OE 17.930227 2.291527e-05 0.0001249302\n",
       "2 Pp3c10_10040.mRNA mutants  WT_vs_deltaDEK 13.237744 2.743679e-04 0.0022917472\n",
       "3 Pp3c10_10040.mRNA mutants  WT_vs_LG3      17.190535 3.381168e-05 0.0005689445\n",
       "4 Pp3c10_10040.mRNA mutants  WT_vs_Loop     21.635354 3.297181e-06 0.0001290050\n",
       "5 Pp3c10_10040.mRNA mutants  WT_vs_OE        4.537398 3.316197e-02 0.0548333823\n",
       "6 Pp3c10_10040.mRNA mutants  deltaDEK_vs_OE 17.930227 2.291527e-05 0.0001249302\n",
       "  rss       sigma_sq_lrt mean_obs_lrt var_obs_lrt ⋯ mean_obs_wt var_obs_wt\n",
       "1 1.8206054 0.08318425   5.044887     0.2883635   ⋯ 5.044887    0.2883635 \n",
       "2 0.8884109 0.03265385   4.974050     0.3080945   ⋯ 4.974050    0.3080945 \n",
       "3 2.6012278 0.11562669   5.169326     0.3094603   ⋯ 5.169326    0.3094603 \n",
       "4 1.1912682 0.04843375   5.158884     0.2764954   ⋯ 5.158884    0.2764954 \n",
       "5 0.9454529 0.03820108   4.928547     0.2750458   ⋯ 4.928547    0.2750458 \n",
       "6 1.8206054 0.08318425   5.044887     0.2883635   ⋯ 5.044887    0.2883635 \n",
       "  sigma_sq_wt smooth_sigma_sq_wt direction id         name    ontology\n",
       "1 0.04077941  0.03788209         down      GO:0005634 nucleus GO      \n",
       "2 0.01242835  0.02898895         up        GO:0005634 nucleus GO      \n",
       "3 0.06123482  0.02801242         up        GO:0005634 nucleus GO      \n",
       "4 0.01228731  0.02915782         up        GO:0005634 nucleus GO      \n",
       "5 0.03625100  0.03697957         down      GO:0005634 nucleus GO      \n",
       "6 0.04077941  0.03788209         down      GO:0005829 cytosol GO      \n",
       "  partition          ic      \n",
       "1 cellular_component 4.345686\n",
       "2 cellular_component 4.345686\n",
       "3 cellular_component 4.345686\n",
       "4 cellular_component 4.345686\n",
       "5 cellular_component 4.345686\n",
       "6 cellular_component 5.809854"
      ]
     },
     "metadata": {},
     "output_type": "display_data"
    }
   ],
   "source": [
    "DA=data.table(dbGetQuery(con,\"select * from physcogrn.dek1dge_full join physcogrn.ontology using (geneid) where analysis = 'mutants' and qval_lrt < 0.1\"))\n",
    "setkeyv(DA,c(\"geneid\",\"id\"))\n",
    "head(DA)"
   ]
  },
  {
   "cell_type": "code",
   "execution_count": 14,
   "metadata": {},
   "outputs": [
    {
     "data": {
      "text/html": [
       "<table>\n",
       "<thead><tr><th scope=col>partition</th><th scope=col>nterms</th><th scope=col>ngenes</th></tr></thead>\n",
       "<tbody>\n",
       "\t<tr><td>biological process</td><td>4618              </td><td>19967             </td></tr>\n",
       "\t<tr><td>molecular function</td><td>2441              </td><td>15269             </td></tr>\n",
       "\t<tr><td>cellular component</td><td> 974              </td><td>24453             </td></tr>\n",
       "</tbody>\n",
       "</table>\n"
      ],
      "text/latex": [
       "\\begin{tabular}{r|lll}\n",
       " partition & nterms & ngenes\\\\\n",
       "\\hline\n",
       "\t biological process & 4618               & 19967             \\\\\n",
       "\t molecular function & 2441               & 15269             \\\\\n",
       "\t cellular component &  974               & 24453             \\\\\n",
       "\\end{tabular}\n"
      ],
      "text/markdown": [
       "\n",
       "| partition | nterms | ngenes |\n",
       "|---|---|---|\n",
       "| biological process | 4618               | 19967              |\n",
       "| molecular function | 2441               | 15269              |\n",
       "| cellular component |  974               | 24453              |\n",
       "\n"
      ],
      "text/plain": [
       "  partition          nterms ngenes\n",
       "1 biological process 4618   19967 \n",
       "2 molecular function 2441   15269 \n",
       "3 cellular component  974   24453 "
      ]
     },
     "metadata": {},
     "output_type": "display_data"
    }
   ],
   "source": [
    "go_all=do.call(rbind.data.frame, lapply(seq_along(big.g),function(i) {\n",
    "    terms=unique(intersection_with_descendants(go, big.g[[i]], A[ontology==\"GO\"][[\"id\"]]))\n",
    "    genes=unique(A[id %in% terms][[\"geneid\"]])\n",
    "    data.frame(partition=names(big.g)[i], nterms=length(terms),ngenes=length(genes))\n",
    "}))\n",
    "head(go_all)"
   ]
  },
  {
   "cell_type": "code",
   "execution_count": 15,
   "metadata": {},
   "outputs": [
    {
     "data": {
      "text/html": [
       "<table>\n",
       "<thead><tr><th scope=col>partition</th><th scope=col>comparison</th><th scope=col>nterms</th><th scope=col>ngenes</th></tr></thead>\n",
       "<tbody>\n",
       "\t<tr><td>biological process</td><td>deltaDEK_vs_OE    </td><td>4367              </td><td>14226             </td></tr>\n",
       "\t<tr><td>molecular function</td><td>deltaDEK_vs_OE    </td><td>2300              </td><td>11023             </td></tr>\n",
       "\t<tr><td>cellular component</td><td>deltaDEK_vs_OE    </td><td> 939              </td><td>14493             </td></tr>\n",
       "\t<tr><td>biological process</td><td>WT_vs_deltaDEK    </td><td>4046              </td><td>10378             </td></tr>\n",
       "\t<tr><td>molecular function</td><td>WT_vs_deltaDEK    </td><td>2071              </td><td> 8052             </td></tr>\n",
       "\t<tr><td>cellular component</td><td>WT_vs_deltaDEK    </td><td> 880              </td><td>10426             </td></tr>\n",
       "</tbody>\n",
       "</table>\n"
      ],
      "text/latex": [
       "\\begin{tabular}{r|llll}\n",
       " partition & comparison & nterms & ngenes\\\\\n",
       "\\hline\n",
       "\t biological process & deltaDEK\\_vs\\_OE & 4367               & 14226             \\\\\n",
       "\t molecular function & deltaDEK\\_vs\\_OE & 2300               & 11023             \\\\\n",
       "\t cellular component & deltaDEK\\_vs\\_OE &  939               & 14493             \\\\\n",
       "\t biological process & WT\\_vs\\_deltaDEK & 4046               & 10378             \\\\\n",
       "\t molecular function & WT\\_vs\\_deltaDEK & 2071               &  8052             \\\\\n",
       "\t cellular component & WT\\_vs\\_deltaDEK &  880               & 10426             \\\\\n",
       "\\end{tabular}\n"
      ],
      "text/markdown": [
       "\n",
       "| partition | comparison | nterms | ngenes |\n",
       "|---|---|---|---|\n",
       "| biological process | deltaDEK_vs_OE     | 4367               | 14226              |\n",
       "| molecular function | deltaDEK_vs_OE     | 2300               | 11023              |\n",
       "| cellular component | deltaDEK_vs_OE     |  939               | 14493              |\n",
       "| biological process | WT_vs_deltaDEK     | 4046               | 10378              |\n",
       "| molecular function | WT_vs_deltaDEK     | 2071               |  8052              |\n",
       "| cellular component | WT_vs_deltaDEK     |  880               | 10426              |\n",
       "\n"
      ],
      "text/plain": [
       "  partition          comparison     nterms ngenes\n",
       "1 biological process deltaDEK_vs_OE 4367   14226 \n",
       "2 molecular function deltaDEK_vs_OE 2300   11023 \n",
       "3 cellular component deltaDEK_vs_OE  939   14493 \n",
       "4 biological process WT_vs_deltaDEK 4046   10378 \n",
       "5 molecular function WT_vs_deltaDEK 2071    8052 \n",
       "6 cellular component WT_vs_deltaDEK  880   10426 "
      ]
     },
     "metadata": {},
     "output_type": "display_data"
    }
   ],
   "source": [
    "comp=unique(DA$comparison)\n",
    "O=\"GO\"\n",
    "o=go\n",
    "s=big.g\n",
    "go_dge=do.call(rbind,lapply(comp,function(n) {\n",
    "    do.call(rbind.data.frame, lapply(seq_along(big.g),function(i) {\n",
    "        terms=unique(intersection_with_descendants(o, s[[i]], DA[ontology==O & comparison ==n][[\"id\"]]))\n",
    "        genes=unique(DA[id %in% terms & comparison ==n][[\"geneid\"]])\n",
    "        data.frame(partition=names(big.g)[i], comparison=n, nterms=length(terms),ngenes=length(genes))\n",
    "        }))\n",
    "}))\n",
    "head(go_dge)"
   ]
  },
  {
   "cell_type": "code",
   "execution_count": 16,
   "metadata": {},
   "outputs": [
    {
     "data": {
      "text/html": [
       "<table>\n",
       "<thead><tr><th scope=col>partition</th><th scope=col>nterms</th><th scope=col>ngenes</th></tr></thead>\n",
       "<tbody>\n",
       "\t<tr><td>plant anatomical entity          </td><td>305                              </td><td>21795                            </td></tr>\n",
       "\t<tr><td>plant structure development stage</td><td>191                              </td><td>21733                            </td></tr>\n",
       "</tbody>\n",
       "</table>\n"
      ],
      "text/latex": [
       "\\begin{tabular}{r|lll}\n",
       " partition & nterms & ngenes\\\\\n",
       "\\hline\n",
       "\t plant anatomical entity           & 305                               & 21795                            \\\\\n",
       "\t plant structure development stage & 191                               & 21733                            \\\\\n",
       "\\end{tabular}\n"
      ],
      "text/markdown": [
       "\n",
       "| partition | nterms | ngenes |\n",
       "|---|---|---|\n",
       "| plant anatomical entity           | 305                               | 21795                             |\n",
       "| plant structure development stage | 191                               | 21733                             |\n",
       "\n"
      ],
      "text/plain": [
       "  partition                         nterms ngenes\n",
       "1 plant anatomical entity           305    21795 \n",
       "2 plant structure development stage 191    21733 "
      ]
     },
     "metadata": {},
     "output_type": "display_data"
    }
   ],
   "source": [
    "po_all=do.call(rbind.data.frame, lapply(seq_along(big.p),function(i) {\n",
    "    terms=unique(intersection_with_descendants(po, big.p[[i]], A[ontology==\"PO\"][[\"id\"]]))\n",
    "    genes=unique(A[id %in% terms][[\"geneid\"]])\n",
    "    data.frame(partition=names(big.p)[i], nterms=length(terms),ngenes=length(genes))\n",
    "}))\n",
    "head(po_all)"
   ]
  },
  {
   "cell_type": "code",
   "execution_count": 17,
   "metadata": {},
   "outputs": [
    {
     "data": {
      "text/html": [
       "<table>\n",
       "<thead><tr><th scope=col>partition</th><th scope=col>comparison</th><th scope=col>nterms</th><th scope=col>ngenes</th></tr></thead>\n",
       "<tbody>\n",
       "\t<tr><td>plant anatomical entity          </td><td>deltaDEK_vs_OE                   </td><td>284                              </td><td>15205                            </td></tr>\n",
       "\t<tr><td>plant structure development stage</td><td>deltaDEK_vs_OE                   </td><td>179                              </td><td>15186                            </td></tr>\n",
       "\t<tr><td>plant anatomical entity          </td><td>WT_vs_deltaDEK                   </td><td>282                              </td><td>11117                            </td></tr>\n",
       "\t<tr><td>plant structure development stage</td><td>WT_vs_deltaDEK                   </td><td>180                              </td><td>11101                            </td></tr>\n",
       "\t<tr><td>plant anatomical entity          </td><td>WT_vs_LG3                        </td><td>253                              </td><td> 6705                            </td></tr>\n",
       "\t<tr><td>plant structure development stage</td><td>WT_vs_LG3                        </td><td>165                              </td><td> 6694                            </td></tr>\n",
       "</tbody>\n",
       "</table>\n"
      ],
      "text/latex": [
       "\\begin{tabular}{r|llll}\n",
       " partition & comparison & nterms & ngenes\\\\\n",
       "\\hline\n",
       "\t plant anatomical entity           & deltaDEK\\_vs\\_OE                & 284                               & 15205                            \\\\\n",
       "\t plant structure development stage & deltaDEK\\_vs\\_OE                & 179                               & 15186                            \\\\\n",
       "\t plant anatomical entity           & WT\\_vs\\_deltaDEK                & 282                               & 11117                            \\\\\n",
       "\t plant structure development stage & WT\\_vs\\_deltaDEK                & 180                               & 11101                            \\\\\n",
       "\t plant anatomical entity           & WT\\_vs\\_LG3                     & 253                               &  6705                            \\\\\n",
       "\t plant structure development stage & WT\\_vs\\_LG3                     & 165                               &  6694                            \\\\\n",
       "\\end{tabular}\n"
      ],
      "text/markdown": [
       "\n",
       "| partition | comparison | nterms | ngenes |\n",
       "|---|---|---|---|\n",
       "| plant anatomical entity           | deltaDEK_vs_OE                    | 284                               | 15205                             |\n",
       "| plant structure development stage | deltaDEK_vs_OE                    | 179                               | 15186                             |\n",
       "| plant anatomical entity           | WT_vs_deltaDEK                    | 282                               | 11117                             |\n",
       "| plant structure development stage | WT_vs_deltaDEK                    | 180                               | 11101                             |\n",
       "| plant anatomical entity           | WT_vs_LG3                         | 253                               |  6705                             |\n",
       "| plant structure development stage | WT_vs_LG3                         | 165                               |  6694                             |\n",
       "\n"
      ],
      "text/plain": [
       "  partition                         comparison     nterms ngenes\n",
       "1 plant anatomical entity           deltaDEK_vs_OE 284    15205 \n",
       "2 plant structure development stage deltaDEK_vs_OE 179    15186 \n",
       "3 plant anatomical entity           WT_vs_deltaDEK 282    11117 \n",
       "4 plant structure development stage WT_vs_deltaDEK 180    11101 \n",
       "5 plant anatomical entity           WT_vs_LG3      253     6705 \n",
       "6 plant structure development stage WT_vs_LG3      165     6694 "
      ]
     },
     "metadata": {},
     "output_type": "display_data"
    }
   ],
   "source": [
    "comp=unique(DA$comparison)\n",
    "O=\"PO\"\n",
    "o=po\n",
    "s=big.p\n",
    "po_dge=do.call(rbind,lapply(comp,function(n) {\n",
    "    do.call(rbind.data.frame, lapply(seq_along(s),function(i) {\n",
    "        terms=unique(intersection_with_descendants(o, s[[i]], DA[ontology==O & comparison ==n][[\"id\"]]))\n",
    "        genes=unique(DA[id %in% terms & comparison ==n][[\"geneid\"]])\n",
    "        data.frame(partition=names(s)[i], comparison=n, nterms=length(terms),ngenes=length(genes))\n",
    "        }))\n",
    "}))\n",
    "head(po_dge)"
   ]
  },
  {
   "cell_type": "code",
   "execution_count": 18,
   "metadata": {},
   "outputs": [
    {
     "data": {
      "text/html": [
       "<table>\n",
       "<thead><tr><th scope=col>ontology</th><th scope=col>partition</th><th scope=col>comparison</th><th scope=col>nterms.dge</th><th scope=col>ngenes.dge</th><th scope=col>nterms.all</th><th scope=col>ngenes.all</th><th scope=col>pterms</th><th scope=col>pgenes</th></tr></thead>\n",
       "<tbody>\n",
       "\t<tr><td>GO                </td><td>biological process</td><td>deltaDEK_vs_OE    </td><td>4367              </td><td>14226             </td><td>4618              </td><td>19967             </td><td>94.56475          </td><td>71.24756          </td></tr>\n",
       "\t<tr><td>GO                </td><td>biological process</td><td>WT_vs_Loop        </td><td>3055              </td><td> 5220             </td><td>4618              </td><td>19967             </td><td>66.15418          </td><td>26.14314          </td></tr>\n",
       "\t<tr><td>GO                </td><td>biological process</td><td>WT_vs_LG3         </td><td>3384              </td><td> 6365             </td><td>4618              </td><td>19967             </td><td>73.27848          </td><td>31.87760          </td></tr>\n",
       "\t<tr><td>GO                </td><td>biological process</td><td>WT_vs_deltaDEK    </td><td>4046              </td><td>10378             </td><td>4618              </td><td>19967             </td><td>87.61369          </td><td>51.97576          </td></tr>\n",
       "\t<tr><td>GO                </td><td>biological process</td><td>WT_vs_OE          </td><td>4266              </td><td>12813             </td><td>4618              </td><td>19967             </td><td>92.37765          </td><td>64.17088          </td></tr>\n",
       "\t<tr><td>GO                </td><td>cellular component</td><td>deltaDEK_vs_OE    </td><td> 939              </td><td>14493             </td><td> 974              </td><td>24453             </td><td>96.40657          </td><td>59.26880          </td></tr>\n",
       "</tbody>\n",
       "</table>\n"
      ],
      "text/latex": [
       "\\begin{tabular}{r|lllllllll}\n",
       " ontology & partition & comparison & nterms.dge & ngenes.dge & nterms.all & ngenes.all & pterms & pgenes\\\\\n",
       "\\hline\n",
       "\t GO                 & biological process & deltaDEK\\_vs\\_OE & 4367               & 14226              & 4618               & 19967              & 94.56475           & 71.24756          \\\\\n",
       "\t GO                 & biological process & WT\\_vs\\_Loop     & 3055               &  5220              & 4618               & 19967              & 66.15418           & 26.14314          \\\\\n",
       "\t GO                 & biological process & WT\\_vs\\_LG3      & 3384               &  6365              & 4618               & 19967              & 73.27848           & 31.87760          \\\\\n",
       "\t GO                 & biological process & WT\\_vs\\_deltaDEK & 4046               & 10378              & 4618               & 19967              & 87.61369           & 51.97576          \\\\\n",
       "\t GO                 & biological process & WT\\_vs\\_OE       & 4266               & 12813              & 4618               & 19967              & 92.37765           & 64.17088          \\\\\n",
       "\t GO                 & cellular component & deltaDEK\\_vs\\_OE &  939               & 14493              &  974               & 24453              & 96.40657           & 59.26880          \\\\\n",
       "\\end{tabular}\n"
      ],
      "text/markdown": [
       "\n",
       "| ontology | partition | comparison | nterms.dge | ngenes.dge | nterms.all | ngenes.all | pterms | pgenes |\n",
       "|---|---|---|---|---|---|---|---|---|\n",
       "| GO                 | biological process | deltaDEK_vs_OE     | 4367               | 14226              | 4618               | 19967              | 94.56475           | 71.24756           |\n",
       "| GO                 | biological process | WT_vs_Loop         | 3055               |  5220              | 4618               | 19967              | 66.15418           | 26.14314           |\n",
       "| GO                 | biological process | WT_vs_LG3          | 3384               |  6365              | 4618               | 19967              | 73.27848           | 31.87760           |\n",
       "| GO                 | biological process | WT_vs_deltaDEK     | 4046               | 10378              | 4618               | 19967              | 87.61369           | 51.97576           |\n",
       "| GO                 | biological process | WT_vs_OE           | 4266               | 12813              | 4618               | 19967              | 92.37765           | 64.17088           |\n",
       "| GO                 | cellular component | deltaDEK_vs_OE     |  939               | 14493              |  974               | 24453              | 96.40657           | 59.26880           |\n",
       "\n"
      ],
      "text/plain": [
       "  ontology partition          comparison     nterms.dge ngenes.dge nterms.all\n",
       "1 GO       biological process deltaDEK_vs_OE 4367       14226      4618      \n",
       "2 GO       biological process WT_vs_Loop     3055        5220      4618      \n",
       "3 GO       biological process WT_vs_LG3      3384        6365      4618      \n",
       "4 GO       biological process WT_vs_deltaDEK 4046       10378      4618      \n",
       "5 GO       biological process WT_vs_OE       4266       12813      4618      \n",
       "6 GO       cellular component deltaDEK_vs_OE  939       14493       974      \n",
       "  ngenes.all pterms   pgenes  \n",
       "1 19967      94.56475 71.24756\n",
       "2 19967      66.15418 26.14314\n",
       "3 19967      73.27848 31.87760\n",
       "4 19967      87.61369 51.97576\n",
       "5 19967      92.37765 64.17088\n",
       "6 24453      96.40657 59.26880"
      ]
     },
     "metadata": {},
     "output_type": "display_data"
    },
    {
     "data": {
      "text/html": [
       "<table>\n",
       "<thead><tr><th></th><th scope=col>ontology</th><th scope=col>partition</th><th scope=col>comparison</th><th scope=col>nterms.dge</th><th scope=col>ngenes.dge</th><th scope=col>nterms.all</th><th scope=col>ngenes.all</th><th scope=col>pterms</th><th scope=col>pgenes</th></tr></thead>\n",
       "<tbody>\n",
       "\t<tr><th scope=row>20</th><td>PO                               </td><td>plant anatomical entity          </td><td>WT_vs_OE                         </td><td>285                              </td><td>13700                            </td><td>305                              </td><td>21795                            </td><td>93.44262                         </td><td>62.85845                         </td></tr>\n",
       "\t<tr><th scope=row>21</th><td>PO                               </td><td>plant structure development stage</td><td>deltaDEK_vs_OE                   </td><td>179                              </td><td>15186                            </td><td>191                              </td><td>21733                            </td><td>93.71728                         </td><td>69.87530                         </td></tr>\n",
       "\t<tr><th scope=row>22</th><td>PO                               </td><td>plant structure development stage</td><td>WT_vs_deltaDEK                   </td><td>180                              </td><td>11101                            </td><td>191                              </td><td>21733                            </td><td>94.24084                         </td><td>51.07900                         </td></tr>\n",
       "\t<tr><th scope=row>23</th><td>PO                               </td><td>plant structure development stage</td><td>WT_vs_LG3                        </td><td>165                              </td><td> 6694                            </td><td>191                              </td><td>21733                            </td><td>86.38743                         </td><td>30.80109                         </td></tr>\n",
       "\t<tr><th scope=row>24</th><td>PO                               </td><td>plant structure development stage</td><td>WT_vs_Loop                       </td><td>167                              </td><td> 5450                            </td><td>191                              </td><td>21733                            </td><td>87.43455                         </td><td>25.07707                         </td></tr>\n",
       "\t<tr><th scope=row>25</th><td>PO                               </td><td>plant structure development stage</td><td>WT_vs_OE                         </td><td>178                              </td><td>13683                            </td><td>191                              </td><td>21733                            </td><td>93.19372                         </td><td>62.95955                         </td></tr>\n",
       "</tbody>\n",
       "</table>\n"
      ],
      "text/latex": [
       "\\begin{tabular}{r|lllllllll}\n",
       "  & ontology & partition & comparison & nterms.dge & ngenes.dge & nterms.all & ngenes.all & pterms & pgenes\\\\\n",
       "\\hline\n",
       "\t20 & PO                                & plant anatomical entity           & WT\\_vs\\_OE                      & 285                               & 13700                             & 305                               & 21795                             & 93.44262                          & 62.85845                         \\\\\n",
       "\t21 & PO                                & plant structure development stage & deltaDEK\\_vs\\_OE                & 179                               & 15186                             & 191                               & 21733                             & 93.71728                          & 69.87530                         \\\\\n",
       "\t22 & PO                                & plant structure development stage & WT\\_vs\\_deltaDEK                & 180                               & 11101                             & 191                               & 21733                             & 94.24084                          & 51.07900                         \\\\\n",
       "\t23 & PO                                & plant structure development stage & WT\\_vs\\_LG3                     & 165                               &  6694                             & 191                               & 21733                             & 86.38743                          & 30.80109                         \\\\\n",
       "\t24 & PO                                & plant structure development stage & WT\\_vs\\_Loop                    & 167                               &  5450                             & 191                               & 21733                             & 87.43455                          & 25.07707                         \\\\\n",
       "\t25 & PO                                & plant structure development stage & WT\\_vs\\_OE                      & 178                               & 13683                             & 191                               & 21733                             & 93.19372                          & 62.95955                         \\\\\n",
       "\\end{tabular}\n"
      ],
      "text/markdown": [
       "\n",
       "| <!--/--> | ontology | partition | comparison | nterms.dge | ngenes.dge | nterms.all | ngenes.all | pterms | pgenes |\n",
       "|---|---|---|---|---|---|---|---|---|---|\n",
       "| 20 | PO                                | plant anatomical entity           | WT_vs_OE                          | 285                               | 13700                             | 305                               | 21795                             | 93.44262                          | 62.85845                          |\n",
       "| 21 | PO                                | plant structure development stage | deltaDEK_vs_OE                    | 179                               | 15186                             | 191                               | 21733                             | 93.71728                          | 69.87530                          |\n",
       "| 22 | PO                                | plant structure development stage | WT_vs_deltaDEK                    | 180                               | 11101                             | 191                               | 21733                             | 94.24084                          | 51.07900                          |\n",
       "| 23 | PO                                | plant structure development stage | WT_vs_LG3                         | 165                               |  6694                             | 191                               | 21733                             | 86.38743                          | 30.80109                          |\n",
       "| 24 | PO                                | plant structure development stage | WT_vs_Loop                        | 167                               |  5450                             | 191                               | 21733                             | 87.43455                          | 25.07707                          |\n",
       "| 25 | PO                                | plant structure development stage | WT_vs_OE                          | 178                               | 13683                             | 191                               | 21733                             | 93.19372                          | 62.95955                          |\n",
       "\n"
      ],
      "text/plain": [
       "   ontology partition                         comparison     nterms.dge\n",
       "20 PO       plant anatomical entity           WT_vs_OE       285       \n",
       "21 PO       plant structure development stage deltaDEK_vs_OE 179       \n",
       "22 PO       plant structure development stage WT_vs_deltaDEK 180       \n",
       "23 PO       plant structure development stage WT_vs_LG3      165       \n",
       "24 PO       plant structure development stage WT_vs_Loop     167       \n",
       "25 PO       plant structure development stage WT_vs_OE       178       \n",
       "   ngenes.dge nterms.all ngenes.all pterms   pgenes  \n",
       "20 13700      305        21795      93.44262 62.85845\n",
       "21 15186      191        21733      93.71728 69.87530\n",
       "22 11101      191        21733      94.24084 51.07900\n",
       "23  6694      191        21733      86.38743 30.80109\n",
       "24  5450      191        21733      87.43455 25.07707\n",
       "25 13683      191        21733      93.19372 62.95955"
      ]
     },
     "metadata": {},
     "output_type": "display_data"
    }
   ],
   "source": [
    "X=data.frame(ontology=\"GO\",merge(go_dge,go_all,by=\"partition\",suffixes = c(\".dge\",\".all\")))\n",
    "X=rbind(X,data.frame(ontology=\"PO\",merge(po_dge,po_all,by=\"partition\",suffixes = c(\".dge\",\".all\"))))\n",
    "X$pterms=X$nterms.dge/X$nterms.all*100\n",
    "X$pgenes=X$ngenes.dge/X$ngenes.all*100\n",
    "head(X)\n",
    "tail(X)"
   ]
  },
  {
   "cell_type": "code",
   "execution_count": 19,
   "metadata": {},
   "outputs": [],
   "source": [
    "library(ggplot2)"
   ]
  },
  {
   "cell_type": "code",
   "execution_count": 20,
   "metadata": {},
   "outputs": [],
   "source": [
    "options(repr.plot.width=4, repr.plot.height=3)"
   ]
  },
  {
   "cell_type": "code",
   "execution_count": 21,
   "metadata": {},
   "outputs": [
    {
     "data": {
      "image/png": "[encoded data removed]",
      "text/plain": [
       "plot without title"
      ]
     },
     "metadata": {},
     "output_type": "display_data"
    }
   ],
   "source": [
    "g=ggplot(X,aes(y=pterms,fill=partition,x=comparison))+geom_bar(stat=\"identity\",position=\"dodge\") +scale_fill_brewer(palette=\"Accent\")+coord_flip() + ylab(\"annotated ontology terms[%]\") +\n",
    "theme(text = element_text(size=7))\n",
    "print(g)"
   ]
  },
  {
   "cell_type": "code",
   "execution_count": 22,
   "metadata": {},
   "outputs": [],
   "source": [
    "ggsave(g,file=\"percent_annotated.pdf\",width=4,height=3)"
   ]
  },
  {
   "cell_type": "code",
   "execution_count": 23,
   "metadata": {},
   "outputs": [
    {
     "data": {
      "text/html": [
       "<table>\n",
       "<thead><tr><th scope=col>ontology</th><th scope=col>partition</th><th scope=col>comparison</th><th scope=col>nterms.dge</th><th scope=col>ngenes.dge</th><th scope=col>nterms.all</th><th scope=col>ngenes.all</th><th scope=col>pterms</th><th scope=col>pgenes</th></tr></thead>\n",
       "<tbody>\n",
       "\t<tr><td>GO                               </td><td>biological process               </td><td>deltaDEK_vs_OE                   </td><td>4367                             </td><td>14226                            </td><td>4618                             </td><td>19967                            </td><td>94.56475                         </td><td>71.24756                         </td></tr>\n",
       "\t<tr><td>GO                               </td><td>biological process               </td><td>WT_vs_Loop                       </td><td>3055                             </td><td> 5220                            </td><td>4618                             </td><td>19967                            </td><td>66.15418                         </td><td>26.14314                         </td></tr>\n",
       "\t<tr><td>GO                               </td><td>biological process               </td><td>WT_vs_LG3                        </td><td>3384                             </td><td> 6365                            </td><td>4618                             </td><td>19967                            </td><td>73.27848                         </td><td>31.87760                         </td></tr>\n",
       "\t<tr><td>GO                               </td><td>biological process               </td><td>WT_vs_deltaDEK                   </td><td>4046                             </td><td>10378                            </td><td>4618                             </td><td>19967                            </td><td>87.61369                         </td><td>51.97576                         </td></tr>\n",
       "\t<tr><td>GO                               </td><td>biological process               </td><td>WT_vs_OE                         </td><td>4266                             </td><td>12813                            </td><td>4618                             </td><td>19967                            </td><td>92.37765                         </td><td>64.17088                         </td></tr>\n",
       "\t<tr><td>GO                               </td><td>cellular component               </td><td>deltaDEK_vs_OE                   </td><td> 939                             </td><td>14493                            </td><td> 974                             </td><td>24453                            </td><td>96.40657                         </td><td>59.26880                         </td></tr>\n",
       "\t<tr><td>GO                               </td><td>cellular component               </td><td>WT_vs_Loop                       </td><td> 648                             </td><td> 4966                            </td><td> 974                             </td><td>24453                            </td><td>66.52977                         </td><td>20.30835                         </td></tr>\n",
       "\t<tr><td>GO                               </td><td>cellular component               </td><td>WT_vs_LG3                        </td><td> 721                             </td><td> 6241                            </td><td> 974                             </td><td>24453                            </td><td>74.02464                         </td><td>25.52243                         </td></tr>\n",
       "\t<tr><td>GO                               </td><td>cellular component               </td><td>WT_vs_deltaDEK                   </td><td> 880                             </td><td>10426                            </td><td> 974                             </td><td>24453                            </td><td>90.34908                         </td><td>42.63690                         </td></tr>\n",
       "\t<tr><td>GO                               </td><td>cellular component               </td><td>WT_vs_OE                         </td><td> 921                             </td><td>13078                            </td><td> 974                             </td><td>24453                            </td><td>94.55852                         </td><td>53.48219                         </td></tr>\n",
       "\t<tr><td>GO                               </td><td>molecular function               </td><td>deltaDEK_vs_OE                   </td><td>2300                             </td><td>11023                            </td><td>2441                             </td><td>15269                            </td><td>94.22368                         </td><td>72.19202                         </td></tr>\n",
       "\t<tr><td>GO                               </td><td>molecular function               </td><td>WT_vs_Loop                       </td><td>1473                             </td><td> 3608                            </td><td>2441                             </td><td>15269                            </td><td>60.34412                         </td><td>23.62958                         </td></tr>\n",
       "\t<tr><td>GO                               </td><td>molecular function               </td><td>WT_vs_LG3                        </td><td>1702                             </td><td> 4673                            </td><td>2441                             </td><td>15269                            </td><td>69.72552                         </td><td>30.60449                         </td></tr>\n",
       "\t<tr><td>GO                               </td><td>molecular function               </td><td>WT_vs_deltaDEK                   </td><td>2071                             </td><td> 8052                            </td><td>2441                             </td><td>15269                            </td><td>84.84228                         </td><td>52.73430                         </td></tr>\n",
       "\t<tr><td>GO                               </td><td>molecular function               </td><td>WT_vs_OE                         </td><td>2216                             </td><td> 9936                            </td><td>2441                             </td><td>15269                            </td><td>90.78247                         </td><td>65.07302                         </td></tr>\n",
       "\t<tr><td>PO                               </td><td>plant anatomical entity          </td><td>deltaDEK_vs_OE                   </td><td> 284                             </td><td>15205                            </td><td> 305                             </td><td>21795                            </td><td>93.11475                         </td><td>69.76371                         </td></tr>\n",
       "\t<tr><td>PO                               </td><td>plant anatomical entity          </td><td>WT_vs_deltaDEK                   </td><td> 282                             </td><td>11117                            </td><td> 305                             </td><td>21795                            </td><td>92.45902                         </td><td>51.00711                         </td></tr>\n",
       "\t<tr><td>PO                               </td><td>plant anatomical entity          </td><td>WT_vs_LG3                        </td><td> 253                             </td><td> 6705                            </td><td> 305                             </td><td>21795                            </td><td>82.95082                         </td><td>30.76394                         </td></tr>\n",
       "\t<tr><td>PO                               </td><td>plant anatomical entity          </td><td>WT_vs_Loop                       </td><td> 252                             </td><td> 5454                            </td><td> 305                             </td><td>21795                            </td><td>82.62295                         </td><td>25.02409                         </td></tr>\n",
       "\t<tr><td>PO                               </td><td>plant anatomical entity          </td><td>WT_vs_OE                         </td><td> 285                             </td><td>13700                            </td><td> 305                             </td><td>21795                            </td><td>93.44262                         </td><td>62.85845                         </td></tr>\n",
       "\t<tr><td>PO                               </td><td>plant structure development stage</td><td>deltaDEK_vs_OE                   </td><td> 179                             </td><td>15186                            </td><td> 191                             </td><td>21733                            </td><td>93.71728                         </td><td>69.87530                         </td></tr>\n",
       "\t<tr><td>PO                               </td><td>plant structure development stage</td><td>WT_vs_deltaDEK                   </td><td> 180                             </td><td>11101                            </td><td> 191                             </td><td>21733                            </td><td>94.24084                         </td><td>51.07900                         </td></tr>\n",
       "\t<tr><td>PO                               </td><td>plant structure development stage</td><td>WT_vs_LG3                        </td><td> 165                             </td><td> 6694                            </td><td> 191                             </td><td>21733                            </td><td>86.38743                         </td><td>30.80109                         </td></tr>\n",
       "\t<tr><td>PO                               </td><td>plant structure development stage</td><td>WT_vs_Loop                       </td><td> 167                             </td><td> 5450                            </td><td> 191                             </td><td>21733                            </td><td>87.43455                         </td><td>25.07707                         </td></tr>\n",
       "\t<tr><td>PO                               </td><td>plant structure development stage</td><td>WT_vs_OE                         </td><td> 178                             </td><td>13683                            </td><td> 191                             </td><td>21733                            </td><td>93.19372                         </td><td>62.95955                         </td></tr>\n",
       "</tbody>\n",
       "</table>\n"
      ],
      "text/latex": [
       "\\begin{tabular}{r|lllllllll}\n",
       " ontology & partition & comparison & nterms.dge & ngenes.dge & nterms.all & ngenes.all & pterms & pgenes\\\\\n",
       "\\hline\n",
       "\t GO                                & biological process                & deltaDEK\\_vs\\_OE                & 4367                              & 14226                             & 4618                              & 19967                             & 94.56475                          & 71.24756                         \\\\\n",
       "\t GO                                & biological process                & WT\\_vs\\_Loop                    & 3055                              &  5220                             & 4618                              & 19967                             & 66.15418                          & 26.14314                         \\\\\n",
       "\t GO                                & biological process                & WT\\_vs\\_LG3                     & 3384                              &  6365                             & 4618                              & 19967                             & 73.27848                          & 31.87760                         \\\\\n",
       "\t GO                                & biological process                & WT\\_vs\\_deltaDEK                & 4046                              & 10378                             & 4618                              & 19967                             & 87.61369                          & 51.97576                         \\\\\n",
       "\t GO                                & biological process                & WT\\_vs\\_OE                      & 4266                              & 12813                             & 4618                              & 19967                             & 92.37765                          & 64.17088                         \\\\\n",
       "\t GO                                & cellular component                & deltaDEK\\_vs\\_OE                &  939                              & 14493                             &  974                              & 24453                             & 96.40657                          & 59.26880                         \\\\\n",
       "\t GO                                & cellular component                & WT\\_vs\\_Loop                    &  648                              &  4966                             &  974                              & 24453                             & 66.52977                          & 20.30835                         \\\\\n",
       "\t GO                                & cellular component                & WT\\_vs\\_LG3                     &  721                              &  6241                             &  974                              & 24453                             & 74.02464                          & 25.52243                         \\\\\n",
       "\t GO                                & cellular component                & WT\\_vs\\_deltaDEK                &  880                              & 10426                             &  974                              & 24453                             & 90.34908                          & 42.63690                         \\\\\n",
       "\t GO                                & cellular component                & WT\\_vs\\_OE                      &  921                              & 13078                             &  974                              & 24453                             & 94.55852                          & 53.48219                         \\\\\n",
       "\t GO                                & molecular function                & deltaDEK\\_vs\\_OE                & 2300                              & 11023                             & 2441                              & 15269                             & 94.22368                          & 72.19202                         \\\\\n",
       "\t GO                                & molecular function                & WT\\_vs\\_Loop                    & 1473                              &  3608                             & 2441                              & 15269                             & 60.34412                          & 23.62958                         \\\\\n",
       "\t GO                                & molecular function                & WT\\_vs\\_LG3                     & 1702                              &  4673                             & 2441                              & 15269                             & 69.72552                          & 30.60449                         \\\\\n",
       "\t GO                                & molecular function                & WT\\_vs\\_deltaDEK                & 2071                              &  8052                             & 2441                              & 15269                             & 84.84228                          & 52.73430                         \\\\\n",
       "\t GO                                & molecular function                & WT\\_vs\\_OE                      & 2216                              &  9936                             & 2441                              & 15269                             & 90.78247                          & 65.07302                         \\\\\n",
       "\t PO                                & plant anatomical entity           & deltaDEK\\_vs\\_OE                &  284                              & 15205                             &  305                              & 21795                             & 93.11475                          & 69.76371                         \\\\\n",
       "\t PO                                & plant anatomical entity           & WT\\_vs\\_deltaDEK                &  282                              & 11117                             &  305                              & 21795                             & 92.45902                          & 51.00711                         \\\\\n",
       "\t PO                                & plant anatomical entity           & WT\\_vs\\_LG3                     &  253                              &  6705                             &  305                              & 21795                             & 82.95082                          & 30.76394                         \\\\\n",
       "\t PO                                & plant anatomical entity           & WT\\_vs\\_Loop                    &  252                              &  5454                             &  305                              & 21795                             & 82.62295                          & 25.02409                         \\\\\n",
       "\t PO                                & plant anatomical entity           & WT\\_vs\\_OE                      &  285                              & 13700                             &  305                              & 21795                             & 93.44262                          & 62.85845                         \\\\\n",
       "\t PO                                & plant structure development stage & deltaDEK\\_vs\\_OE                &  179                              & 15186                             &  191                              & 21733                             & 93.71728                          & 69.87530                         \\\\\n",
       "\t PO                                & plant structure development stage & WT\\_vs\\_deltaDEK                &  180                              & 11101                             &  191                              & 21733                             & 94.24084                          & 51.07900                         \\\\\n",
       "\t PO                                & plant structure development stage & WT\\_vs\\_LG3                     &  165                              &  6694                             &  191                              & 21733                             & 86.38743                          & 30.80109                         \\\\\n",
       "\t PO                                & plant structure development stage & WT\\_vs\\_Loop                    &  167                              &  5450                             &  191                              & 21733                             & 87.43455                          & 25.07707                         \\\\\n",
       "\t PO                                & plant structure development stage & WT\\_vs\\_OE                      &  178                              & 13683                             &  191                              & 21733                             & 93.19372                          & 62.95955                         \\\\\n",
       "\\end{tabular}\n"
      ],
      "text/markdown": [
       "\n",
       "| ontology | partition | comparison | nterms.dge | ngenes.dge | nterms.all | ngenes.all | pterms | pgenes |\n",
       "|---|---|---|---|---|---|---|---|---|\n",
       "| GO                                | biological process                | deltaDEK_vs_OE                    | 4367                              | 14226                             | 4618                              | 19967                             | 94.56475                          | 71.24756                          |\n",
       "| GO                                | biological process                | WT_vs_Loop                        | 3055                              |  5220                             | 4618                              | 19967                             | 66.15418                          | 26.14314                          |\n",
       "| GO                                | biological process                | WT_vs_LG3                         | 3384                              |  6365                             | 4618                              | 19967                             | 73.27848                          | 31.87760                          |\n",
       "| GO                                | biological process                | WT_vs_deltaDEK                    | 4046                              | 10378                             | 4618                              | 19967                             | 87.61369                          | 51.97576                          |\n",
       "| GO                                | biological process                | WT_vs_OE                          | 4266                              | 12813                             | 4618                              | 19967                             | 92.37765                          | 64.17088                          |\n",
       "| GO                                | cellular component                | deltaDEK_vs_OE                    |  939                              | 14493                             |  974                              | 24453                             | 96.40657                          | 59.26880                          |\n",
       "| GO                                | cellular component                | WT_vs_Loop                        |  648                              |  4966                             |  974                              | 24453                             | 66.52977                          | 20.30835                          |\n",
       "| GO                                | cellular component                | WT_vs_LG3                         |  721                              |  6241                             |  974                              | 24453                             | 74.02464                          | 25.52243                          |\n",
       "| GO                                | cellular component                | WT_vs_deltaDEK                    |  880                              | 10426                             |  974                              | 24453                             | 90.34908                          | 42.63690                          |\n",
       "| GO                                | cellular component                | WT_vs_OE                          |  921                              | 13078                             |  974                              | 24453                             | 94.55852                          | 53.48219                          |\n",
       "| GO                                | molecular function                | deltaDEK_vs_OE                    | 2300                              | 11023                             | 2441                              | 15269                             | 94.22368                          | 72.19202                          |\n",
       "| GO                                | molecular function                | WT_vs_Loop                        | 1473                              |  3608                             | 2441                              | 15269                             | 60.34412                          | 23.62958                          |\n",
       "| GO                                | molecular function                | WT_vs_LG3                         | 1702                              |  4673                             | 2441                              | 15269                             | 69.72552                          | 30.60449                          |\n",
       "| GO                                | molecular function                | WT_vs_deltaDEK                    | 2071                              |  8052                             | 2441                              | 15269                             | 84.84228                          | 52.73430                          |\n",
       "| GO                                | molecular function                | WT_vs_OE                          | 2216                              |  9936                             | 2441                              | 15269                             | 90.78247                          | 65.07302                          |\n",
       "| PO                                | plant anatomical entity           | deltaDEK_vs_OE                    |  284                              | 15205                             |  305                              | 21795                             | 93.11475                          | 69.76371                          |\n",
       "| PO                                | plant anatomical entity           | WT_vs_deltaDEK                    |  282                              | 11117                             |  305                              | 21795                             | 92.45902                          | 51.00711                          |\n",
       "| PO                                | plant anatomical entity           | WT_vs_LG3                         |  253                              |  6705                             |  305                              | 21795                             | 82.95082                          | 30.76394                          |\n",
       "| PO                                | plant anatomical entity           | WT_vs_Loop                        |  252                              |  5454                             |  305                              | 21795                             | 82.62295                          | 25.02409                          |\n",
       "| PO                                | plant anatomical entity           | WT_vs_OE                          |  285                              | 13700                             |  305                              | 21795                             | 93.44262                          | 62.85845                          |\n",
       "| PO                                | plant structure development stage | deltaDEK_vs_OE                    |  179                              | 15186                             |  191                              | 21733                             | 93.71728                          | 69.87530                          |\n",
       "| PO                                | plant structure development stage | WT_vs_deltaDEK                    |  180                              | 11101                             |  191                              | 21733                             | 94.24084                          | 51.07900                          |\n",
       "| PO                                | plant structure development stage | WT_vs_LG3                         |  165                              |  6694                             |  191                              | 21733                             | 86.38743                          | 30.80109                          |\n",
       "| PO                                | plant structure development stage | WT_vs_Loop                        |  167                              |  5450                             |  191                              | 21733                             | 87.43455                          | 25.07707                          |\n",
       "| PO                                | plant structure development stage | WT_vs_OE                          |  178                              | 13683                             |  191                              | 21733                             | 93.19372                          | 62.95955                          |\n",
       "\n"
      ],
      "text/plain": [
       "   ontology partition                         comparison     nterms.dge\n",
       "1  GO       biological process                deltaDEK_vs_OE 4367      \n",
       "2  GO       biological process                WT_vs_Loop     3055      \n",
       "3  GO       biological process                WT_vs_LG3      3384      \n",
       "4  GO       biological process                WT_vs_deltaDEK 4046      \n",
       "5  GO       biological process                WT_vs_OE       4266      \n",
       "6  GO       cellular component                deltaDEK_vs_OE  939      \n",
       "7  GO       cellular component                WT_vs_Loop      648      \n",
       "8  GO       cellular component                WT_vs_LG3       721      \n",
       "9  GO       cellular component                WT_vs_deltaDEK  880      \n",
       "10 GO       cellular component                WT_vs_OE        921      \n",
       "11 GO       molecular function                deltaDEK_vs_OE 2300      \n",
       "12 GO       molecular function                WT_vs_Loop     1473      \n",
       "13 GO       molecular function                WT_vs_LG3      1702      \n",
       "14 GO       molecular function                WT_vs_deltaDEK 2071      \n",
       "15 GO       molecular function                WT_vs_OE       2216      \n",
       "16 PO       plant anatomical entity           deltaDEK_vs_OE  284      \n",
       "17 PO       plant anatomical entity           WT_vs_deltaDEK  282      \n",
       "18 PO       plant anatomical entity           WT_vs_LG3       253      \n",
       "19 PO       plant anatomical entity           WT_vs_Loop      252      \n",
       "20 PO       plant anatomical entity           WT_vs_OE        285      \n",
       "21 PO       plant structure development stage deltaDEK_vs_OE  179      \n",
       "22 PO       plant structure development stage WT_vs_deltaDEK  180      \n",
       "23 PO       plant structure development stage WT_vs_LG3       165      \n",
       "24 PO       plant structure development stage WT_vs_Loop      167      \n",
       "25 PO       plant structure development stage WT_vs_OE        178      \n",
       "   ngenes.dge nterms.all ngenes.all pterms   pgenes  \n",
       "1  14226      4618       19967      94.56475 71.24756\n",
       "2   5220      4618       19967      66.15418 26.14314\n",
       "3   6365      4618       19967      73.27848 31.87760\n",
       "4  10378      4618       19967      87.61369 51.97576\n",
       "5  12813      4618       19967      92.37765 64.17088\n",
       "6  14493       974       24453      96.40657 59.26880\n",
       "7   4966       974       24453      66.52977 20.30835\n",
       "8   6241       974       24453      74.02464 25.52243\n",
       "9  10426       974       24453      90.34908 42.63690\n",
       "10 13078       974       24453      94.55852 53.48219\n",
       "11 11023      2441       15269      94.22368 72.19202\n",
       "12  3608      2441       15269      60.34412 23.62958\n",
       "13  4673      2441       15269      69.72552 30.60449\n",
       "14  8052      2441       15269      84.84228 52.73430\n",
       "15  9936      2441       15269      90.78247 65.07302\n",
       "16 15205       305       21795      93.11475 69.76371\n",
       "17 11117       305       21795      92.45902 51.00711\n",
       "18  6705       305       21795      82.95082 30.76394\n",
       "19  5454       305       21795      82.62295 25.02409\n",
       "20 13700       305       21795      93.44262 62.85845\n",
       "21 15186       191       21733      93.71728 69.87530\n",
       "22 11101       191       21733      94.24084 51.07900\n",
       "23  6694       191       21733      86.38743 30.80109\n",
       "24  5450       191       21733      87.43455 25.07707\n",
       "25 13683       191       21733      93.19372 62.95955"
      ]
     },
     "metadata": {},
     "output_type": "display_data"
    }
   ],
   "source": [
    "X"
   ]
  }
 ],
 "metadata": {
  "kernelspec": {
   "display_name": "R [conda env:ontology]",
   "language": "R",
   "name": "conda-env-ontology-r"
  },
  "language_info": {
   "codemirror_mode": "r",
   "file_extension": ".r",
   "mimetype": "text/x-r-source",
   "name": "R",
   "pygments_lexer": "r",
   "version": "3.5.1"
  }
 },
 "nbformat": 4,
 "nbformat_minor": 4
}
