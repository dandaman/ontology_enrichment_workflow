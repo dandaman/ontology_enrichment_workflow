{
 "cells": [
  {
   "cell_type": "code",
   "execution_count": 1,
   "metadata": {},
   "outputs": [
    {
     "name": "stderr",
     "output_type": "stream",
     "text": [
      "Loading required package: DBI\n"
     ]
    }
   ],
   "source": [
    "library(RPostgreSQL)\n",
    "library(ontologyIndex)\n",
    "library(ontologySimilarity)\n",
    "library(data.table)"
   ]
  },
  {
   "cell_type": "code",
   "execution_count": 2,
   "metadata": {},
   "outputs": [],
   "source": [
    "con = dbConnect(PostgreSQL(),dbname = 'yourdb', \n",
    "                 host = 'yourhost',\n",
    "                 port = 0000)"
   ]
  },
  {
   "cell_type": "code",
   "execution_count": 3,
   "metadata": {},
   "outputs": [
    {
     "name": "stderr",
     "output_type": "stream",
     "text": [
      "Warning message in (function (parents, id = names(parents), name = id, obsolete = setNames(nm = id, :\n",
      "“Some parent terms not found: NCBITaxon:3398, NCBITaxon:33090”"
     ]
    }
   ],
   "source": [
    "go=get_ontology(\"ontologies/go.obo\", propagate_relationships=get_relation_names(\"ontologies/go.obo\")[-c(4)])\n",
    "po=get_ontology(\"ontologies/po.obo\", propagate_relationships=get_relation_names(\"ontologies/po.obo\")[-c(4)])"
   ]
  },
  {
   "cell_type": "code",
   "execution_count": 4,
   "metadata": {},
   "outputs": [],
   "source": [
    "goic=descendants_IC(go)\n",
    "poic=descendants_IC(po)"
   ]
  },
  {
   "cell_type": "code",
   "execution_count": 5,
   "metadata": {},
   "outputs": [],
   "source": [
    "go.no=go$id[! go$obsolete]\n",
    "po.no=po$id[! po$obsolete]"
   ]
  },
  {
   "cell_type": "code",
   "execution_count": 6,
   "metadata": {},
   "outputs": [
    {
     "data": {
      "text/html": [
       "336337"
      ],
      "text/latex": [
       "336337"
      ],
      "text/markdown": [
       "336337"
      ],
      "text/plain": [
       "[1] 336337"
      ]
     },
     "metadata": {},
     "output_type": "display_data"
    },
    {
     "data": {
      "text/html": [
       "331231"
      ],
      "text/latex": [
       "331231"
      ],
      "text/markdown": [
       "331231"
      ],
      "text/plain": [
       "[1] 331231"
      ]
     },
     "metadata": {},
     "output_type": "display_data"
    },
    {
     "data": {
      "text/html": [
       "<table>\n",
       "<thead><tr><th scope=col>V1</th><th scope=col>V2</th><th scope=col>V3</th><th scope=col>V4</th><th scope=col>V5</th><th scope=col>V6</th><th scope=col>V7</th><th scope=col>V8</th><th scope=col>V9</th><th scope=col>V10</th><th scope=col>V11</th><th scope=col>V12</th><th scope=col>V13</th><th scope=col>V14</th><th scope=col>V15</th><th scope=col>V16</th><th scope=col>V17</th></tr></thead>\n",
       "<tbody>\n",
       "\t<tr><td>cosmoss_PpV1.6TOV3.3          </td><td>Pp3c10_10040.mRNA             </td><td>Pp3c10_10040.mRNA             </td><td>NA                            </td><td>GO:0005634                    </td><td>NA                            </td><td>ISS                           </td><td>cosmoss_V1.6:Pp1s58_283V6.1   </td><td>C                             </td><td>NA                            </td><td>NA                            </td><td>gene_product                  </td><td>taxon:3218                    </td><td>20100908                      </td><td>cosmoss                       </td><td>NA                            </td><td>cosmoss_V3.3:Pp3c10_10040.mRNA</td></tr>\n",
       "\t<tr><td>PGSB_pred2GO                  </td><td>Pp3c10_10040.mRNA             </td><td>Pp3c10_10040.mRNA             </td><td>NA                            </td><td>GO:0005829                    </td><td>NA                            </td><td>ISS                           </td><td>cosmoss_V3.3:Pp3c10_10040.mRNA</td><td>C                             </td><td>NA                            </td><td>NA                            </td><td>gene                          </td><td>taxon:3218                    </td><td>20190219                      </td><td>PGSB                          </td><td>NA                            </td><td>cosmoss_V3.3:Pp3c10_10040.mRNA</td></tr>\n",
       "\t<tr><td>Pp_gene_atlas2GO              </td><td>Pp3c10_10040.mRNA             </td><td>Pp3c10_10040.mRNA             </td><td>NA                            </td><td>GO:0032502                    </td><td>cosmoss_V3.3:Pp3c10_10040.mRNA</td><td>IEP                           </td><td>NA                            </td><td>P                             </td><td>NA                            </td><td>NA                            </td><td>gene                          </td><td>taxon:145481                  </td><td>20190217                      </td><td>PGSB                          </td><td>expressed_under(PECO:0007262) </td><td>cosmoss_V3.3:Pp3c10_10040.mRNA</td></tr>\n",
       "\t<tr><td>PGSB_pred2GO                  </td><td>Pp3c10_10090.mRNA             </td><td>Pp3c10_10090.mRNA             </td><td>NA                            </td><td>GO:0005576                    </td><td>NA                            </td><td>ISS                           </td><td>cosmoss_V3.3:Pp3c10_10090.mRNA</td><td>C                             </td><td>NA                            </td><td>NA                            </td><td>gene                          </td><td>taxon:3218                    </td><td>20190219                      </td><td>PGSB                          </td><td>NA                            </td><td>cosmoss_V3.3:Pp3c10_10090.mRNA</td></tr>\n",
       "\t<tr><td>PGSB_pred2GO                  </td><td>Pp3c10_10090.mRNA             </td><td>Pp3c10_10090.mRNA             </td><td>NA                            </td><td>GO:0005618                    </td><td>NA                            </td><td>ISS                           </td><td>cosmoss_V3.3:Pp3c10_10090.mRNA</td><td>C                             </td><td>NA                            </td><td>NA                            </td><td>gene                          </td><td>taxon:3218                    </td><td>20190219                      </td><td>PGSB                          </td><td>NA                            </td><td>cosmoss_V3.3:Pp3c10_10090.mRNA</td></tr>\n",
       "\t<tr><td>PGSB_pred2GO                  </td><td>Pp3c10_10090.mRNA             </td><td>Pp3c10_10090.mRNA             </td><td>NA                            </td><td>GO:0005634                    </td><td>NA                            </td><td>ISS                           </td><td>cosmoss_V3.3:Pp3c10_10090.mRNA</td><td>C                             </td><td>NA                            </td><td>NA                            </td><td>gene                          </td><td>taxon:3218                    </td><td>20190219                      </td><td>PGSB                          </td><td>NA                            </td><td>cosmoss_V3.3:Pp3c10_10090.mRNA</td></tr>\n",
       "</tbody>\n",
       "</table>\n"
      ],
      "text/latex": [
       "\\begin{tabular}{r|lllllllllllllllll}\n",
       " V1 & V2 & V3 & V4 & V5 & V6 & V7 & V8 & V9 & V10 & V11 & V12 & V13 & V14 & V15 & V16 & V17\\\\\n",
       "\\hline\n",
       "\t cosmoss\\_PpV1.6TOV3.3             & Pp3c10\\_10040.mRNA                & Pp3c10\\_10040.mRNA                & NA                                 & GO:0005634                         & NA                                 & ISS                                & cosmoss\\_V1.6:Pp1s58\\_283V6.1    & C                                  & NA                                 & NA                                 & gene\\_product                     & taxon:3218                         & 20100908                           & cosmoss                            & NA                                 & cosmoss\\_V3.3:Pp3c10\\_10040.mRNA\\\\\n",
       "\t PGSB\\_pred2GO                     & Pp3c10\\_10040.mRNA                & Pp3c10\\_10040.mRNA                & NA                                 & GO:0005829                         & NA                                 & ISS                                & cosmoss\\_V3.3:Pp3c10\\_10040.mRNA & C                                  & NA                                 & NA                                 & gene                               & taxon:3218                         & 20190219                           & PGSB                               & NA                                 & cosmoss\\_V3.3:Pp3c10\\_10040.mRNA\\\\\n",
       "\t Pp\\_gene\\_atlas2GO               & Pp3c10\\_10040.mRNA                & Pp3c10\\_10040.mRNA                & NA                                 & GO:0032502                         & cosmoss\\_V3.3:Pp3c10\\_10040.mRNA & IEP                                & NA                                 & P                                  & NA                                 & NA                                 & gene                               & taxon:145481                       & 20190217                           & PGSB                               & expressed\\_under(PECO:0007262)    & cosmoss\\_V3.3:Pp3c10\\_10040.mRNA\\\\\n",
       "\t PGSB\\_pred2GO                     & Pp3c10\\_10090.mRNA                & Pp3c10\\_10090.mRNA                & NA                                 & GO:0005576                         & NA                                 & ISS                                & cosmoss\\_V3.3:Pp3c10\\_10090.mRNA & C                                  & NA                                 & NA                                 & gene                               & taxon:3218                         & 20190219                           & PGSB                               & NA                                 & cosmoss\\_V3.3:Pp3c10\\_10090.mRNA\\\\\n",
       "\t PGSB\\_pred2GO                     & Pp3c10\\_10090.mRNA                & Pp3c10\\_10090.mRNA                & NA                                 & GO:0005618                         & NA                                 & ISS                                & cosmoss\\_V3.3:Pp3c10\\_10090.mRNA & C                                  & NA                                 & NA                                 & gene                               & taxon:3218                         & 20190219                           & PGSB                               & NA                                 & cosmoss\\_V3.3:Pp3c10\\_10090.mRNA\\\\\n",
       "\t PGSB\\_pred2GO                     & Pp3c10\\_10090.mRNA                & Pp3c10\\_10090.mRNA                & NA                                 & GO:0005634                         & NA                                 & ISS                                & cosmoss\\_V3.3:Pp3c10\\_10090.mRNA & C                                  & NA                                 & NA                                 & gene                               & taxon:3218                         & 20190219                           & PGSB                               & NA                                 & cosmoss\\_V3.3:Pp3c10\\_10090.mRNA\\\\\n",
       "\\end{tabular}\n"
      ],
      "text/markdown": [
       "\n",
       "| V1 | V2 | V3 | V4 | V5 | V6 | V7 | V8 | V9 | V10 | V11 | V12 | V13 | V14 | V15 | V16 | V17 |\n",
       "|---|---|---|---|---|---|---|---|---|---|---|---|---|---|---|---|---|\n",
       "| cosmoss_PpV1.6TOV3.3           | Pp3c10_10040.mRNA              | Pp3c10_10040.mRNA              | NA                             | GO:0005634                     | NA                             | ISS                            | cosmoss_V1.6:Pp1s58_283V6.1    | C                              | NA                             | NA                             | gene_product                   | taxon:3218                     | 20100908                       | cosmoss                        | NA                             | cosmoss_V3.3:Pp3c10_10040.mRNA |\n",
       "| PGSB_pred2GO                   | Pp3c10_10040.mRNA              | Pp3c10_10040.mRNA              | NA                             | GO:0005829                     | NA                             | ISS                            | cosmoss_V3.3:Pp3c10_10040.mRNA | C                              | NA                             | NA                             | gene                           | taxon:3218                     | 20190219                       | PGSB                           | NA                             | cosmoss_V3.3:Pp3c10_10040.mRNA |\n",
       "| Pp_gene_atlas2GO               | Pp3c10_10040.mRNA              | Pp3c10_10040.mRNA              | NA                             | GO:0032502                     | cosmoss_V3.3:Pp3c10_10040.mRNA | IEP                            | NA                             | P                              | NA                             | NA                             | gene                           | taxon:145481                   | 20190217                       | PGSB                           | expressed_under(PECO:0007262)  | cosmoss_V3.3:Pp3c10_10040.mRNA |\n",
       "| PGSB_pred2GO                   | Pp3c10_10090.mRNA              | Pp3c10_10090.mRNA              | NA                             | GO:0005576                     | NA                             | ISS                            | cosmoss_V3.3:Pp3c10_10090.mRNA | C                              | NA                             | NA                             | gene                           | taxon:3218                     | 20190219                       | PGSB                           | NA                             | cosmoss_V3.3:Pp3c10_10090.mRNA |\n",
       "| PGSB_pred2GO                   | Pp3c10_10090.mRNA              | Pp3c10_10090.mRNA              | NA                             | GO:0005618                     | NA                             | ISS                            | cosmoss_V3.3:Pp3c10_10090.mRNA | C                              | NA                             | NA                             | gene                           | taxon:3218                     | 20190219                       | PGSB                           | NA                             | cosmoss_V3.3:Pp3c10_10090.mRNA |\n",
       "| PGSB_pred2GO                   | Pp3c10_10090.mRNA              | Pp3c10_10090.mRNA              | NA                             | GO:0005634                     | NA                             | ISS                            | cosmoss_V3.3:Pp3c10_10090.mRNA | C                              | NA                             | NA                             | gene                           | taxon:3218                     | 20190219                       | PGSB                           | NA                             | cosmoss_V3.3:Pp3c10_10090.mRNA |\n",
       "\n"
      ],
      "text/plain": [
       "  V1                   V2                V3                V4 V5        \n",
       "1 cosmoss_PpV1.6TOV3.3 Pp3c10_10040.mRNA Pp3c10_10040.mRNA NA GO:0005634\n",
       "2 PGSB_pred2GO         Pp3c10_10040.mRNA Pp3c10_10040.mRNA NA GO:0005829\n",
       "3 Pp_gene_atlas2GO     Pp3c10_10040.mRNA Pp3c10_10040.mRNA NA GO:0032502\n",
       "4 PGSB_pred2GO         Pp3c10_10090.mRNA Pp3c10_10090.mRNA NA GO:0005576\n",
       "5 PGSB_pred2GO         Pp3c10_10090.mRNA Pp3c10_10090.mRNA NA GO:0005618\n",
       "6 PGSB_pred2GO         Pp3c10_10090.mRNA Pp3c10_10090.mRNA NA GO:0005634\n",
       "  V6                             V7  V8                             V9 V10 V11\n",
       "1 NA                             ISS cosmoss_V1.6:Pp1s58_283V6.1    C  NA  NA \n",
       "2 NA                             ISS cosmoss_V3.3:Pp3c10_10040.mRNA C  NA  NA \n",
       "3 cosmoss_V3.3:Pp3c10_10040.mRNA IEP NA                             P  NA  NA \n",
       "4 NA                             ISS cosmoss_V3.3:Pp3c10_10090.mRNA C  NA  NA \n",
       "5 NA                             ISS cosmoss_V3.3:Pp3c10_10090.mRNA C  NA  NA \n",
       "6 NA                             ISS cosmoss_V3.3:Pp3c10_10090.mRNA C  NA  NA \n",
       "  V12          V13          V14      V15     V16                          \n",
       "1 gene_product taxon:3218   20100908 cosmoss NA                           \n",
       "2 gene         taxon:3218   20190219 PGSB    NA                           \n",
       "3 gene         taxon:145481 20190217 PGSB    expressed_under(PECO:0007262)\n",
       "4 gene         taxon:3218   20190219 PGSB    NA                           \n",
       "5 gene         taxon:3218   20190219 PGSB    NA                           \n",
       "6 gene         taxon:3218   20190219 PGSB    NA                           \n",
       "  V17                           \n",
       "1 cosmoss_V3.3:Pp3c10_10040.mRNA\n",
       "2 cosmoss_V3.3:Pp3c10_10040.mRNA\n",
       "3 cosmoss_V3.3:Pp3c10_10040.mRNA\n",
       "4 cosmoss_V3.3:Pp3c10_10090.mRNA\n",
       "5 cosmoss_V3.3:Pp3c10_10090.mRNA\n",
       "6 cosmoss_V3.3:Pp3c10_10090.mRNA"
      ]
     },
     "metadata": {},
     "output_type": "display_data"
    }
   ],
   "source": [
    "gaf=read.delim(\"annotation//Physcomitrella_patens.GO.gaf2\",sep=\"\\t\",stringsAsFactors=FALSE,header=FALSE,na=\"\")\n",
    "nrow(gaf)\n",
    "gaf=gaf[gaf[,5] %in% go.no ,]\n",
    "nrow(gaf)\n",
    "head(gaf)"
   ]
  },
  {
   "cell_type": "code",
   "execution_count": 7,
   "metadata": {},
   "outputs": [
    {
     "data": {
      "text/html": [
       "876665"
      ],
      "text/latex": [
       "876665"
      ],
      "text/markdown": [
       "876665"
      ],
      "text/plain": [
       "[1] 876665"
      ]
     },
     "metadata": {},
     "output_type": "display_data"
    },
    {
     "data": {
      "text/html": [
       "656837"
      ],
      "text/latex": [
       "656837"
      ],
      "text/markdown": [
       "656837"
      ],
      "text/plain": [
       "[1] 656837"
      ]
     },
     "metadata": {},
     "output_type": "display_data"
    },
    {
     "data": {
      "text/html": [
       "<table>\n",
       "<thead><tr><th scope=col>V1</th><th scope=col>V2</th><th scope=col>V3</th><th scope=col>V4</th><th scope=col>V5</th><th scope=col>V6</th><th scope=col>V7</th><th scope=col>V8</th><th scope=col>V9</th><th scope=col>V10</th><th scope=col>V11</th><th scope=col>V12</th><th scope=col>V13</th><th scope=col>V14</th><th scope=col>V15</th><th scope=col>V16</th><th scope=col>V17</th></tr></thead>\n",
       "<tbody>\n",
       "\t<tr><td>cosmoss_PpV1.2TOV3.3                            </td><td>Pp3c10_10040.mRNA                               </td><td>Pp3c10_10040.mRNA                               </td><td>NA                                              </td><td>PO:0000006                                      </td><td>GB:PHYPADRAFT_163644|PMID:18762443|PMID:18079367</td><td>IEP                                             </td><td>cosmoss_PpV1.2:Pp1s58_283V2.1                   </td><td>A                                               </td><td>NA                                              </td><td>Phypa_163644|PHYPADRAFT_163644                  </td><td>mRNA                                            </td><td>taxon:145481                                    </td><td>20110906                                        </td><td>plantco.de|cosmoss.org                          </td><td>expressed_under(EO:0007265)                     </td><td>cosmoss_V3.3:Pp3c10_10040.mRNA                  </td></tr>\n",
       "\t<tr><td>Pp_gene_atlas2PO                                </td><td>Pp3c10_10040.mRNA                               </td><td>Pp3c10_10040.mRNA                               </td><td>NA                                              </td><td>PO:0007134                                      </td><td>cosmoss_V3.3:Pp3c10_10040.mRNA                  </td><td>IEP                                             </td><td>NA                                              </td><td>G                                               </td><td>NA                                              </td><td>NA                                              </td><td>gene                                            </td><td>taxon:145481                                    </td><td>20190217                                        </td><td>PGSB                                            </td><td>expressed_under(PECO:0007265)                   </td><td>cosmoss_V3.3:Pp3c10_10040.mRNA                  </td></tr>\n",
       "\t<tr><td>cosmoss_PpV1.2TOV3.3                            </td><td>Pp3c10_10040.mRNA                               </td><td>Pp3c10_10040.mRNA                               </td><td>NA                                              </td><td>PO:0025017                                      </td><td>GB:PHYPADRAFT_163644|PMID:18762443|PMID:18079367</td><td>IEP                                             </td><td>cosmoss_PpV1.2:Pp1s58_283V2.1                   </td><td>A                                               </td><td>NA                                              </td><td>Phypa_163644|PHYPADRAFT_163644                  </td><td>mRNA                                            </td><td>taxon:145481                                    </td><td>20110906                                        </td><td>plantco.de|cosmoss.org                          </td><td>NA                                              </td><td>cosmoss_V3.3:Pp3c10_10040.mRNA                  </td></tr>\n",
       "\t<tr><td>Pp_gene_atlas2PO                                </td><td>Pp3c10_10040.mRNA                               </td><td>Pp3c10_10040.mRNA                               </td><td>NA                                              </td><td>PO:0025075                                      </td><td>cosmoss_V3.3:Pp3c10_10040.mRNA                  </td><td>IEP                                             </td><td>NA                                              </td><td>A                                               </td><td>NA                                              </td><td>NA                                              </td><td>gene                                            </td><td>taxon:145481                                    </td><td>20190217                                        </td><td>PGSB                                            </td><td>expressed_under(PECO:0007262)                   </td><td>cosmoss_V3.3:Pp3c10_10040.mRNA                  </td></tr>\n",
       "\t<tr><td>Pp_gene_atlas2PO                                </td><td>Pp3c10_10040.mRNA                               </td><td>Pp3c10_10040.mRNA                               </td><td>NA                                              </td><td>PO:0025094                                      </td><td>cosmoss_V3.3:Pp3c10_10040.mRNA                  </td><td>IEP                                             </td><td>NA                                              </td><td>A                                               </td><td>NA                                              </td><td>NA                                              </td><td>gene                                            </td><td>taxon:145481                                    </td><td>20190217                                        </td><td>PGSB                                            </td><td>expressed_under(PECO:0007265)                   </td><td>cosmoss_V3.3:Pp3c10_10040.mRNA                  </td></tr>\n",
       "\t<tr><td>Pp_gene_atlas2PO                                </td><td>Pp3c10_10040.mRNA                               </td><td>Pp3c10_10040.mRNA                               </td><td>NA                                              </td><td>PO:0025345                                      </td><td>cosmoss_V3.3:Pp3c10_10040.mRNA                  </td><td>IEP                                             </td><td>NA                                              </td><td>G                                               </td><td>NA                                              </td><td>NA                                              </td><td>gene                                            </td><td>taxon:145481                                    </td><td>20190217                                        </td><td>PGSB                                            </td><td>expressed_under(PECO:0007262)                   </td><td>cosmoss_V3.3:Pp3c10_10040.mRNA                  </td></tr>\n",
       "</tbody>\n",
       "</table>\n"
      ],
      "text/latex": [
       "\\begin{tabular}{r|lllllllllllllllll}\n",
       " V1 & V2 & V3 & V4 & V5 & V6 & V7 & V8 & V9 & V10 & V11 & V12 & V13 & V14 & V15 & V16 & V17\\\\\n",
       "\\hline\n",
       "\t cosmoss\\_PpV1.2TOV3.3                                                 & Pp3c10\\_10040.mRNA                                                    & Pp3c10\\_10040.mRNA                                                    & NA                                                                     & PO:0000006                                                             & GB:PHYPADRAFT\\_163644\\textbar{}PMID:18762443\\textbar{}PMID:18079367 & IEP                                                                    & cosmoss\\_PpV1.2:Pp1s58\\_283V2.1                                      & A                                                                      & NA                                                                     & Phypa\\_163644\\textbar{}PHYPADRAFT\\_163644                           & mRNA                                                                   & taxon:145481                                                           & 20110906                                                               & plantco.de\\textbar{}cosmoss.org                                       & expressed\\_under(EO:0007265)                                          & cosmoss\\_V3.3:Pp3c10\\_10040.mRNA                                    \\\\\n",
       "\t Pp\\_gene\\_atlas2PO                                 & Pp3c10\\_10040.mRNA                                  & Pp3c10\\_10040.mRNA                                  & NA                                                   & PO:0007134                                           & cosmoss\\_V3.3:Pp3c10\\_10040.mRNA                   & IEP                                                  & NA                                                   & G                                                    & NA                                                   & NA                                                   & gene                                                 & taxon:145481                                         & 20190217                                             & PGSB                                                 & expressed\\_under(PECO:0007265)                      & cosmoss\\_V3.3:Pp3c10\\_10040.mRNA                  \\\\\n",
       "\t cosmoss\\_PpV1.2TOV3.3                                                 & Pp3c10\\_10040.mRNA                                                    & Pp3c10\\_10040.mRNA                                                    & NA                                                                     & PO:0025017                                                             & GB:PHYPADRAFT\\_163644\\textbar{}PMID:18762443\\textbar{}PMID:18079367 & IEP                                                                    & cosmoss\\_PpV1.2:Pp1s58\\_283V2.1                                      & A                                                                      & NA                                                                     & Phypa\\_163644\\textbar{}PHYPADRAFT\\_163644                           & mRNA                                                                   & taxon:145481                                                           & 20110906                                                               & plantco.de\\textbar{}cosmoss.org                                       & NA                                                                     & cosmoss\\_V3.3:Pp3c10\\_10040.mRNA                                    \\\\\n",
       "\t Pp\\_gene\\_atlas2PO                                 & Pp3c10\\_10040.mRNA                                  & Pp3c10\\_10040.mRNA                                  & NA                                                   & PO:0025075                                           & cosmoss\\_V3.3:Pp3c10\\_10040.mRNA                   & IEP                                                  & NA                                                   & A                                                    & NA                                                   & NA                                                   & gene                                                 & taxon:145481                                         & 20190217                                             & PGSB                                                 & expressed\\_under(PECO:0007262)                      & cosmoss\\_V3.3:Pp3c10\\_10040.mRNA                  \\\\\n",
       "\t Pp\\_gene\\_atlas2PO                                 & Pp3c10\\_10040.mRNA                                  & Pp3c10\\_10040.mRNA                                  & NA                                                   & PO:0025094                                           & cosmoss\\_V3.3:Pp3c10\\_10040.mRNA                   & IEP                                                  & NA                                                   & A                                                    & NA                                                   & NA                                                   & gene                                                 & taxon:145481                                         & 20190217                                             & PGSB                                                 & expressed\\_under(PECO:0007265)                      & cosmoss\\_V3.3:Pp3c10\\_10040.mRNA                  \\\\\n",
       "\t Pp\\_gene\\_atlas2PO                                 & Pp3c10\\_10040.mRNA                                  & Pp3c10\\_10040.mRNA                                  & NA                                                   & PO:0025345                                           & cosmoss\\_V3.3:Pp3c10\\_10040.mRNA                   & IEP                                                  & NA                                                   & G                                                    & NA                                                   & NA                                                   & gene                                                 & taxon:145481                                         & 20190217                                             & PGSB                                                 & expressed\\_under(PECO:0007262)                      & cosmoss\\_V3.3:Pp3c10\\_10040.mRNA                  \\\\\n",
       "\\end{tabular}\n"
      ],
      "text/markdown": [
       "\n",
       "| V1 | V2 | V3 | V4 | V5 | V6 | V7 | V8 | V9 | V10 | V11 | V12 | V13 | V14 | V15 | V16 | V17 |\n",
       "|---|---|---|---|---|---|---|---|---|---|---|---|---|---|---|---|---|\n",
       "| cosmoss_PpV1.2TOV3.3                             | Pp3c10_10040.mRNA                                | Pp3c10_10040.mRNA                                | NA                                               | PO:0000006                                       | GB:PHYPADRAFT_163644|PMID:18762443|PMID:18079367 | IEP                                              | cosmoss_PpV1.2:Pp1s58_283V2.1                    | A                                                | NA                                               | Phypa_163644|PHYPADRAFT_163644                   | mRNA                                             | taxon:145481                                     | 20110906                                         | plantco.de|cosmoss.org                           | expressed_under(EO:0007265)                      | cosmoss_V3.3:Pp3c10_10040.mRNA                   |\n",
       "| Pp_gene_atlas2PO                                 | Pp3c10_10040.mRNA                                | Pp3c10_10040.mRNA                                | NA                                               | PO:0007134                                       | cosmoss_V3.3:Pp3c10_10040.mRNA                   | IEP                                              | NA                                               | G                                                | NA                                               | NA                                               | gene                                             | taxon:145481                                     | 20190217                                         | PGSB                                             | expressed_under(PECO:0007265)                    | cosmoss_V3.3:Pp3c10_10040.mRNA                   |\n",
       "| cosmoss_PpV1.2TOV3.3                             | Pp3c10_10040.mRNA                                | Pp3c10_10040.mRNA                                | NA                                               | PO:0025017                                       | GB:PHYPADRAFT_163644|PMID:18762443|PMID:18079367 | IEP                                              | cosmoss_PpV1.2:Pp1s58_283V2.1                    | A                                                | NA                                               | Phypa_163644|PHYPADRAFT_163644                   | mRNA                                             | taxon:145481                                     | 20110906                                         | plantco.de|cosmoss.org                           | NA                                               | cosmoss_V3.3:Pp3c10_10040.mRNA                   |\n",
       "| Pp_gene_atlas2PO                                 | Pp3c10_10040.mRNA                                | Pp3c10_10040.mRNA                                | NA                                               | PO:0025075                                       | cosmoss_V3.3:Pp3c10_10040.mRNA                   | IEP                                              | NA                                               | A                                                | NA                                               | NA                                               | gene                                             | taxon:145481                                     | 20190217                                         | PGSB                                             | expressed_under(PECO:0007262)                    | cosmoss_V3.3:Pp3c10_10040.mRNA                   |\n",
       "| Pp_gene_atlas2PO                                 | Pp3c10_10040.mRNA                                | Pp3c10_10040.mRNA                                | NA                                               | PO:0025094                                       | cosmoss_V3.3:Pp3c10_10040.mRNA                   | IEP                                              | NA                                               | A                                                | NA                                               | NA                                               | gene                                             | taxon:145481                                     | 20190217                                         | PGSB                                             | expressed_under(PECO:0007265)                    | cosmoss_V3.3:Pp3c10_10040.mRNA                   |\n",
       "| Pp_gene_atlas2PO                                 | Pp3c10_10040.mRNA                                | Pp3c10_10040.mRNA                                | NA                                               | PO:0025345                                       | cosmoss_V3.3:Pp3c10_10040.mRNA                   | IEP                                              | NA                                               | G                                                | NA                                               | NA                                               | gene                                             | taxon:145481                                     | 20190217                                         | PGSB                                             | expressed_under(PECO:0007262)                    | cosmoss_V3.3:Pp3c10_10040.mRNA                   |\n",
       "\n"
      ],
      "text/plain": [
       "  V1                   V2                V3                V4 V5        \n",
       "1 cosmoss_PpV1.2TOV3.3 Pp3c10_10040.mRNA Pp3c10_10040.mRNA NA PO:0000006\n",
       "2 Pp_gene_atlas2PO     Pp3c10_10040.mRNA Pp3c10_10040.mRNA NA PO:0007134\n",
       "3 cosmoss_PpV1.2TOV3.3 Pp3c10_10040.mRNA Pp3c10_10040.mRNA NA PO:0025017\n",
       "4 Pp_gene_atlas2PO     Pp3c10_10040.mRNA Pp3c10_10040.mRNA NA PO:0025075\n",
       "5 Pp_gene_atlas2PO     Pp3c10_10040.mRNA Pp3c10_10040.mRNA NA PO:0025094\n",
       "6 Pp_gene_atlas2PO     Pp3c10_10040.mRNA Pp3c10_10040.mRNA NA PO:0025345\n",
       "  V6                                               V7 \n",
       "1 GB:PHYPADRAFT_163644|PMID:18762443|PMID:18079367 IEP\n",
       "2 cosmoss_V3.3:Pp3c10_10040.mRNA                   IEP\n",
       "3 GB:PHYPADRAFT_163644|PMID:18762443|PMID:18079367 IEP\n",
       "4 cosmoss_V3.3:Pp3c10_10040.mRNA                   IEP\n",
       "5 cosmoss_V3.3:Pp3c10_10040.mRNA                   IEP\n",
       "6 cosmoss_V3.3:Pp3c10_10040.mRNA                   IEP\n",
       "  V8                            V9 V10 V11                            V12 \n",
       "1 cosmoss_PpV1.2:Pp1s58_283V2.1 A  NA  Phypa_163644|PHYPADRAFT_163644 mRNA\n",
       "2 NA                            G  NA  NA                             gene\n",
       "3 cosmoss_PpV1.2:Pp1s58_283V2.1 A  NA  Phypa_163644|PHYPADRAFT_163644 mRNA\n",
       "4 NA                            A  NA  NA                             gene\n",
       "5 NA                            A  NA  NA                             gene\n",
       "6 NA                            G  NA  NA                             gene\n",
       "  V13          V14      V15                    V16                          \n",
       "1 taxon:145481 20110906 plantco.de|cosmoss.org expressed_under(EO:0007265)  \n",
       "2 taxon:145481 20190217 PGSB                   expressed_under(PECO:0007265)\n",
       "3 taxon:145481 20110906 plantco.de|cosmoss.org NA                           \n",
       "4 taxon:145481 20190217 PGSB                   expressed_under(PECO:0007262)\n",
       "5 taxon:145481 20190217 PGSB                   expressed_under(PECO:0007265)\n",
       "6 taxon:145481 20190217 PGSB                   expressed_under(PECO:0007262)\n",
       "  V17                           \n",
       "1 cosmoss_V3.3:Pp3c10_10040.mRNA\n",
       "2 cosmoss_V3.3:Pp3c10_10040.mRNA\n",
       "3 cosmoss_V3.3:Pp3c10_10040.mRNA\n",
       "4 cosmoss_V3.3:Pp3c10_10040.mRNA\n",
       "5 cosmoss_V3.3:Pp3c10_10040.mRNA\n",
       "6 cosmoss_V3.3:Pp3c10_10040.mRNA"
      ]
     },
     "metadata": {},
     "output_type": "display_data"
    }
   ],
   "source": [
    "paf=read.delim(\"annotation/Physcomitrella_patens.PO.gaf2\",sep=\"\\t\",stringsAsFactors=FALSE,header=FALSE,na=\"\")\n",
    "nrow(paf)\n",
    "paf=paf[paf[,5] %in% po.no & paf[,9] !=\"S\" & ! is.na(paf[,9]),]\n",
    "nrow(paf)\n",
    "head(paf)"
   ]
  },
  {
   "cell_type": "code",
   "execution_count": 8,
   "metadata": {},
   "outputs": [
    {
     "data": {
      "text/plain": [
       "\n",
       "     C      F      P \n",
       " 92478  58373 166477 "
      ]
     },
     "metadata": {},
     "output_type": "display_data"
    }
   ],
   "source": [
    "table(gaf$V9)"
   ]
  },
  {
   "cell_type": "code",
   "execution_count": 9,
   "metadata": {},
   "outputs": [
    {
     "data": {
      "text/html": [
       "<dl class=dl-horizontal>\n",
       "\t<dt>A</dt>\n",
       "\t\t<dd>'plant anatomical entity'</dd>\n",
       "\t<dt>G</dt>\n",
       "\t\t<dd>'plant structure development stage'</dd>\n",
       "\t<dt>F</dt>\n",
       "\t\t<dd>'molecular_function'</dd>\n",
       "\t<dt>P</dt>\n",
       "\t\t<dd>'biological_process'</dd>\n",
       "\t<dt>C</dt>\n",
       "\t\t<dd>'cellular_component'</dd>\n",
       "</dl>\n"
      ],
      "text/latex": [
       "\\begin{description*}\n",
       "\\item[A] 'plant anatomical entity'\n",
       "\\item[G] 'plant structure development stage'\n",
       "\\item[F] 'molecular\\_function'\n",
       "\\item[P] 'biological\\_process'\n",
       "\\item[C] 'cellular\\_component'\n",
       "\\end{description*}\n"
      ],
      "text/markdown": [
       "A\n",
       ":   'plant anatomical entity'G\n",
       ":   'plant structure development stage'F\n",
       ":   'molecular_function'P\n",
       ":   'biological_process'C\n",
       ":   'cellular_component'\n",
       "\n"
      ],
      "text/plain": [
       "                                  A                                   G \n",
       "          \"plant anatomical entity\" \"plant structure development stage\" \n",
       "                                  F                                   P \n",
       "               \"molecular_function\"                \"biological_process\" \n",
       "                                  C \n",
       "               \"cellular_component\" "
      ]
     },
     "metadata": {},
     "output_type": "display_data"
    },
    {
     "data": {
      "text/html": [
       "<dl class=dl-horizontal>\n",
       "\t<dt>plant anatomical entity</dt>\n",
       "\t\t<dd>'A'</dd>\n",
       "\t<dt>plant structure development stage</dt>\n",
       "\t\t<dd>'G'</dd>\n",
       "\t<dt>molecular_function</dt>\n",
       "\t\t<dd>'F'</dd>\n",
       "\t<dt>biological_process</dt>\n",
       "\t\t<dd>'P'</dd>\n",
       "\t<dt>cellular_component</dt>\n",
       "\t\t<dd>'C'</dd>\n",
       "</dl>\n"
      ],
      "text/latex": [
       "\\begin{description*}\n",
       "\\item[plant anatomical entity] 'A'\n",
       "\\item[plant structure development stage] 'G'\n",
       "\\item[molecular\\textbackslash{}\\_function] 'F'\n",
       "\\item[biological\\textbackslash{}\\_process] 'P'\n",
       "\\item[cellular\\textbackslash{}\\_component] 'C'\n",
       "\\end{description*}\n"
      ],
      "text/markdown": [
       "plant anatomical entity\n",
       ":   'A'plant structure development stage\n",
       ":   'G'molecular_function\n",
       ":   'F'biological_process\n",
       ":   'P'cellular_component\n",
       ":   'C'\n",
       "\n"
      ],
      "text/plain": [
       "          plant anatomical entity plant structure development stage \n",
       "                              \"A\"                               \"G\" \n",
       "               molecular_function                biological_process \n",
       "                              \"F\"                               \"P\" \n",
       "               cellular_component \n",
       "                              \"C\" "
      ]
     },
     "metadata": {},
     "output_type": "display_data"
    }
   ],
   "source": [
    "maps=c(\"plant anatomical entity\",\n",
    "          \"plant structure development stage\",\n",
    "          \"molecular_function\",\n",
    "          \"biological_process\",\n",
    "          \"cellular_component\")\n",
    "names(maps)=c(\"A\",\"G\",\"F\",\"P\",\"C\")\n",
    "maps\n",
    "spam=names(maps)\n",
    "names(spam)=maps\n",
    "spam"
   ]
  },
  {
   "cell_type": "code",
   "execution_count": 10,
   "metadata": {},
   "outputs": [
    {
     "data": {
      "text/html": [
       "<table>\n",
       "<thead><tr><th scope=col>ontology</th><th scope=col>partition</th><th scope=col>geneid</th><th scope=col>ID</th></tr></thead>\n",
       "<tbody>\n",
       "\t<tr><td>GO                </td><td>biological_process</td><td>Pp3c23_17640.mRNA </td><td>GO:0000002        </td></tr>\n",
       "\t<tr><td>GO                </td><td>biological_process</td><td>Pp3c8_22090.mRNA  </td><td>GO:0000002        </td></tr>\n",
       "\t<tr><td>GO                </td><td>biological_process</td><td>Pp3c11_16260.mRNA </td><td>GO:0000003        </td></tr>\n",
       "\t<tr><td>GO                </td><td>biological_process</td><td>Pp3c11_20980.mRNA </td><td>GO:0000003        </td></tr>\n",
       "\t<tr><td>GO                </td><td>biological_process</td><td>Pp3c11_21910.mRNA </td><td>GO:0000003        </td></tr>\n",
       "\t<tr><td>GO                </td><td>biological_process</td><td>Pp3c14_10280.mRNA </td><td>GO:0000003        </td></tr>\n",
       "</tbody>\n",
       "</table>\n"
      ],
      "text/latex": [
       "\\begin{tabular}{r|llll}\n",
       " ontology & partition & geneid & ID\\\\\n",
       "\\hline\n",
       "\t GO                   & biological\\_process & Pp3c23\\_17640.mRNA  & GO:0000002          \\\\\n",
       "\t GO                   & biological\\_process & Pp3c8\\_22090.mRNA   & GO:0000002          \\\\\n",
       "\t GO                   & biological\\_process & Pp3c11\\_16260.mRNA  & GO:0000003          \\\\\n",
       "\t GO                   & biological\\_process & Pp3c11\\_20980.mRNA  & GO:0000003          \\\\\n",
       "\t GO                   & biological\\_process & Pp3c11\\_21910.mRNA  & GO:0000003          \\\\\n",
       "\t GO                   & biological\\_process & Pp3c14\\_10280.mRNA  & GO:0000003          \\\\\n",
       "\\end{tabular}\n"
      ],
      "text/markdown": [
       "\n",
       "| ontology | partition | geneid | ID |\n",
       "|---|---|---|---|\n",
       "| GO                 | biological_process | Pp3c23_17640.mRNA  | GO:0000002         |\n",
       "| GO                 | biological_process | Pp3c8_22090.mRNA   | GO:0000002         |\n",
       "| GO                 | biological_process | Pp3c11_16260.mRNA  | GO:0000003         |\n",
       "| GO                 | biological_process | Pp3c11_20980.mRNA  | GO:0000003         |\n",
       "| GO                 | biological_process | Pp3c11_21910.mRNA  | GO:0000003         |\n",
       "| GO                 | biological_process | Pp3c14_10280.mRNA  | GO:0000003         |\n",
       "\n"
      ],
      "text/plain": [
       "  ontology partition          geneid            ID        \n",
       "1 GO       biological_process Pp3c23_17640.mRNA GO:0000002\n",
       "2 GO       biological_process Pp3c8_22090.mRNA  GO:0000002\n",
       "3 GO       biological_process Pp3c11_16260.mRNA GO:0000003\n",
       "4 GO       biological_process Pp3c11_20980.mRNA GO:0000003\n",
       "5 GO       biological_process Pp3c11_21910.mRNA GO:0000003\n",
       "6 GO       biological_process Pp3c14_10280.mRNA GO:0000003"
      ]
     },
     "metadata": {},
     "output_type": "display_data"
    },
    {
     "data": {
      "text/html": [
       "<table>\n",
       "<thead><tr><th scope=col>ontology</th><th scope=col>partition</th><th scope=col>geneid</th><th scope=col>ID</th></tr></thead>\n",
       "<tbody>\n",
       "\t<tr><td>PO                     </td><td>plant anatomical entity</td><td>Pp3c19_14090.mRNA      </td><td>PO:0030023             </td></tr>\n",
       "\t<tr><td>PO                     </td><td>plant anatomical entity</td><td>Pp3c1_32220.mRNA       </td><td>PO:0030023             </td></tr>\n",
       "\t<tr><td>PO                     </td><td>plant anatomical entity</td><td>Pp3c21_1260.mRNA       </td><td>PO:0030023             </td></tr>\n",
       "\t<tr><td>PO                     </td><td>plant anatomical entity</td><td>Pp3c22_12970.mRNA      </td><td>PO:0030023             </td></tr>\n",
       "\t<tr><td>PO                     </td><td>plant anatomical entity</td><td>Pp3c22_17090.mRNA      </td><td>PO:0030023             </td></tr>\n",
       "\t<tr><td>PO                     </td><td>plant anatomical entity</td><td>Pp3c2_5300.mRNA        </td><td>PO:0030023             </td></tr>\n",
       "</tbody>\n",
       "</table>\n"
      ],
      "text/latex": [
       "\\begin{tabular}{r|llll}\n",
       " ontology & partition & geneid & ID\\\\\n",
       "\\hline\n",
       "\t PO                      & plant anatomical entity & Pp3c19\\_14090.mRNA     & PO:0030023             \\\\\n",
       "\t PO                      & plant anatomical entity & Pp3c1\\_32220.mRNA      & PO:0030023             \\\\\n",
       "\t PO                      & plant anatomical entity & Pp3c21\\_1260.mRNA      & PO:0030023             \\\\\n",
       "\t PO                      & plant anatomical entity & Pp3c22\\_12970.mRNA     & PO:0030023             \\\\\n",
       "\t PO                      & plant anatomical entity & Pp3c22\\_17090.mRNA     & PO:0030023             \\\\\n",
       "\t PO                      & plant anatomical entity & Pp3c2\\_5300.mRNA       & PO:0030023             \\\\\n",
       "\\end{tabular}\n"
      ],
      "text/markdown": [
       "\n",
       "| ontology | partition | geneid | ID |\n",
       "|---|---|---|---|\n",
       "| PO                      | plant anatomical entity | Pp3c19_14090.mRNA       | PO:0030023              |\n",
       "| PO                      | plant anatomical entity | Pp3c1_32220.mRNA        | PO:0030023              |\n",
       "| PO                      | plant anatomical entity | Pp3c21_1260.mRNA        | PO:0030023              |\n",
       "| PO                      | plant anatomical entity | Pp3c22_12970.mRNA       | PO:0030023              |\n",
       "| PO                      | plant anatomical entity | Pp3c22_17090.mRNA       | PO:0030023              |\n",
       "| PO                      | plant anatomical entity | Pp3c2_5300.mRNA         | PO:0030023              |\n",
       "\n"
      ],
      "text/plain": [
       "  ontology partition               geneid            ID        \n",
       "1 PO       plant anatomical entity Pp3c19_14090.mRNA PO:0030023\n",
       "2 PO       plant anatomical entity Pp3c1_32220.mRNA  PO:0030023\n",
       "3 PO       plant anatomical entity Pp3c21_1260.mRNA  PO:0030023\n",
       "4 PO       plant anatomical entity Pp3c22_12970.mRNA PO:0030023\n",
       "5 PO       plant anatomical entity Pp3c22_17090.mRNA PO:0030023\n",
       "6 PO       plant anatomical entity Pp3c2_5300.mRNA   PO:0030023"
      ]
     },
     "metadata": {},
     "output_type": "display_data"
    }
   ],
   "source": [
    "A=data.table(rbind(unique(data.frame(ontology=\"GO\",gaf[,c(9,2,5)])),data.frame(ontology=\"PO\",unique(paf[,c(9,2,5)]))))\n",
    "row.names(A)=NULL\n",
    "names(A)[-1]=c(\"partition\",\"geneid\",\"ID\")\n",
    "A$partition=factor(maps[A$partition],levels=maps)\n",
    "A$ontology=factor(A$ontology)\n",
    "setkeyv(A,c(\"ID\",\"geneid\"))\n",
    "head(A)\n",
    "tail(A)"
   ]
  },
  {
   "cell_type": "code",
   "execution_count": 11,
   "metadata": {},
   "outputs": [
    {
     "data": {
      "text/plain": [
       "\n",
       "          plant anatomical entity plant structure development stage \n",
       "                           371523                            285314 \n",
       "               molecular_function                biological_process \n",
       "                            58373                            166477 \n",
       "               cellular_component \n",
       "                            92478 "
      ]
     },
     "metadata": {},
     "output_type": "display_data"
    }
   ],
   "source": [
    "table(A$partition)"
   ]
  },
  {
   "cell_type": "code",
   "execution_count": 12,
   "metadata": {},
   "outputs": [
    {
     "data": {
      "text/html": [
       "988068"
      ],
      "text/latex": [
       "988068"
      ],
      "text/markdown": [
       "988068"
      ],
      "text/plain": [
       "[1] 988068"
      ]
     },
     "metadata": {},
     "output_type": "display_data"
    },
    {
     "data": {
      "text/html": [
       "974165"
      ],
      "text/latex": [
       "974165"
      ],
      "text/markdown": [
       "974165"
      ],
      "text/plain": [
       "[1] 974165"
      ]
     },
     "metadata": {},
     "output_type": "display_data"
    },
    {
     "data": {
      "text/html": [
       "974165"
      ],
      "text/latex": [
       "974165"
      ],
      "text/markdown": [
       "974165"
      ],
      "text/plain": [
       "[1] 974165"
      ]
     },
     "metadata": {},
     "output_type": "display_data"
    }
   ],
   "source": [
    "nrow(A)\n",
    "nrow(na.omit(A))\n",
    "A=na.omit(A)\n",
    "nrow(A)"
   ]
  },
  {
   "cell_type": "code",
   "execution_count": 13,
   "metadata": {},
   "outputs": [
    {
     "data": {
      "text/html": [
       "<table>\n",
       "<thead><tr><th scope=col>geneid</th><th scope=col>community</th><th scope=col>degree_centrality</th><th scope=col>betweenness_centrality</th><th scope=col>eigenvector_centrality</th><th scope=col>local_reaching_centrality</th><th scope=col>centrality_rank</th></tr></thead>\n",
       "<tbody>\n",
       "\t<tr><td>Pp3c27_3080.mRNA </td><td>I                </td><td>109              </td><td>   0             </td><td>0.00000000       </td><td>0.9977499        </td><td>1                </td></tr>\n",
       "\t<tr><td>Pp3c11_23290.mRNA</td><td>I                </td><td>552              </td><td>3190             </td><td>0.05359921       </td><td>0.9971070        </td><td>2                </td></tr>\n",
       "\t<tr><td>Pp3c7_2300.mRNA  </td><td>I                </td><td>505              </td><td>7529             </td><td>0.02518149       </td><td>0.9971070        </td><td>3                </td></tr>\n",
       "\t<tr><td>Pp3c17_23620.mRNA</td><td>I                </td><td>490              </td><td>1988             </td><td>0.05419710       </td><td>0.9971070        </td><td>4                </td></tr>\n",
       "\t<tr><td>Pp3c16_13280.mRNA</td><td>I                </td><td>485              </td><td>9982             </td><td>0.05634423       </td><td>0.9971070        </td><td>5                </td></tr>\n",
       "\t<tr><td>Pp3c15_11610.mRNA</td><td>I                </td><td>461              </td><td>3734             </td><td>0.04049888       </td><td>0.9971070        </td><td>6                </td></tr>\n",
       "</tbody>\n",
       "</table>\n"
      ],
      "text/latex": [
       "\\begin{tabular}{r|lllllll}\n",
       " geneid & community & degree\\_centrality & betweenness\\_centrality & eigenvector\\_centrality & local\\_reaching\\_centrality & centrality\\_rank\\\\\n",
       "\\hline\n",
       "\t Pp3c27\\_3080.mRNA  & I                   & 109                 &    0                & 0.00000000          & 0.9977499           & 1                  \\\\\n",
       "\t Pp3c11\\_23290.mRNA & I                   & 552                 & 3190                & 0.05359921          & 0.9971070           & 2                  \\\\\n",
       "\t Pp3c7\\_2300.mRNA   & I                   & 505                 & 7529                & 0.02518149          & 0.9971070           & 3                  \\\\\n",
       "\t Pp3c17\\_23620.mRNA & I                   & 490                 & 1988                & 0.05419710          & 0.9971070           & 4                  \\\\\n",
       "\t Pp3c16\\_13280.mRNA & I                   & 485                 & 9982                & 0.05634423          & 0.9971070           & 5                  \\\\\n",
       "\t Pp3c15\\_11610.mRNA & I                   & 461                 & 3734                & 0.04049888          & 0.9971070           & 6                  \\\\\n",
       "\\end{tabular}\n"
      ],
      "text/markdown": [
       "\n",
       "| geneid | community | degree_centrality | betweenness_centrality | eigenvector_centrality | local_reaching_centrality | centrality_rank |\n",
       "|---|---|---|---|---|---|---|\n",
       "| Pp3c27_3080.mRNA  | I                 | 109               |    0              | 0.00000000        | 0.9977499         | 1                 |\n",
       "| Pp3c11_23290.mRNA | I                 | 552               | 3190              | 0.05359921        | 0.9971070         | 2                 |\n",
       "| Pp3c7_2300.mRNA   | I                 | 505               | 7529              | 0.02518149        | 0.9971070         | 3                 |\n",
       "| Pp3c17_23620.mRNA | I                 | 490               | 1988              | 0.05419710        | 0.9971070         | 4                 |\n",
       "| Pp3c16_13280.mRNA | I                 | 485               | 9982              | 0.05634423        | 0.9971070         | 5                 |\n",
       "| Pp3c15_11610.mRNA | I                 | 461               | 3734              | 0.04049888        | 0.9971070         | 6                 |\n",
       "\n"
      ],
      "text/plain": [
       "  geneid            community degree_centrality betweenness_centrality\n",
       "1 Pp3c27_3080.mRNA  I         109                  0                  \n",
       "2 Pp3c11_23290.mRNA I         552               3190                  \n",
       "3 Pp3c7_2300.mRNA   I         505               7529                  \n",
       "4 Pp3c17_23620.mRNA I         490               1988                  \n",
       "5 Pp3c16_13280.mRNA I         485               9982                  \n",
       "6 Pp3c15_11610.mRNA I         461               3734                  \n",
       "  eigenvector_centrality local_reaching_centrality centrality_rank\n",
       "1 0.00000000             0.9977499                 1              \n",
       "2 0.05359921             0.9971070                 2              \n",
       "3 0.02518149             0.9971070                 3              \n",
       "4 0.05419710             0.9971070                 4              \n",
       "5 0.05634423             0.9971070                 5              \n",
       "6 0.04049888             0.9971070                 6              "
      ]
     },
     "metadata": {},
     "output_type": "display_data"
    }
   ],
   "source": [
    "n=read.delim(\"../analysis/GENIE3.top10_target_ranks.communities_PLM.with_node_centralities.csv\",sep=\";\",stringsAsFactors=FALSE)\n",
    "head(n)"
   ]
  },
  {
   "cell_type": "code",
   "execution_count": 14,
   "metadata": {},
   "outputs": [],
   "source": [
    "AA=A[A$geneid %in% n$geneid]\n",
    "AA$ontology=as.character(AA$ontology)\n",
    "AA$partition=as.character(AA$partition)"
   ]
  },
  {
   "cell_type": "code",
   "execution_count": 15,
   "metadata": {},
   "outputs": [
    {
     "name": "stdout",
     "output_type": "stream",
     "text": [
      "Classes ‘data.table’ and 'data.frame':\t963649 obs. of  4 variables:\n",
      " $ ontology : chr  \"GO\" \"GO\" \"GO\" \"GO\" ...\n",
      " $ partition: chr  \"biological_process\" \"biological_process\" \"biological_process\" \"biological_process\" ...\n",
      " $ geneid   : chr  \"Pp3c23_17640.mRNA\" \"Pp3c8_22090.mRNA\" \"Pp3c11_16260.mRNA\" \"Pp3c11_20980.mRNA\" ...\n",
      " $ ID       : chr  \"GO:0000002\" \"GO:0000002\" \"GO:0000003\" \"GO:0000003\" ...\n",
      " - attr(*, \"sorted\")= chr  \"ID\" \"geneid\"\n",
      " - attr(*, \".internal.selfref\")=<externalptr> \n"
     ]
    }
   ],
   "source": [
    "str(AA)"
   ]
  },
  {
   "cell_type": "code",
   "execution_count": 16,
   "metadata": {},
   "outputs": [
    {
     "data": {
      "text/html": [
       "<table>\n",
       "<thead><tr><th scope=col>ontology</th><th scope=col>partition</th><th scope=col>geneid</th><th scope=col>ID</th></tr></thead>\n",
       "<tbody>\n",
       "\t<tr><td>GO                </td><td>biological_process</td><td>Pp3c23_17640.mRNA </td><td>GO:0000002        </td></tr>\n",
       "\t<tr><td>GO                </td><td>biological_process</td><td>Pp3c8_22090.mRNA  </td><td>GO:0000002        </td></tr>\n",
       "\t<tr><td>GO                </td><td>biological_process</td><td>Pp3c11_16260.mRNA </td><td>GO:0000003        </td></tr>\n",
       "\t<tr><td>GO                </td><td>biological_process</td><td>Pp3c11_20980.mRNA </td><td>GO:0000003        </td></tr>\n",
       "\t<tr><td>GO                </td><td>biological_process</td><td>Pp3c11_21910.mRNA </td><td>GO:0000003        </td></tr>\n",
       "\t<tr><td>GO                </td><td>biological_process</td><td>Pp3c14_10280.mRNA </td><td>GO:0000003        </td></tr>\n",
       "</tbody>\n",
       "</table>\n"
      ],
      "text/latex": [
       "\\begin{tabular}{r|llll}\n",
       " ontology & partition & geneid & ID\\\\\n",
       "\\hline\n",
       "\t GO                   & biological\\_process & Pp3c23\\_17640.mRNA  & GO:0000002          \\\\\n",
       "\t GO                   & biological\\_process & Pp3c8\\_22090.mRNA   & GO:0000002          \\\\\n",
       "\t GO                   & biological\\_process & Pp3c11\\_16260.mRNA  & GO:0000003          \\\\\n",
       "\t GO                   & biological\\_process & Pp3c11\\_20980.mRNA  & GO:0000003          \\\\\n",
       "\t GO                   & biological\\_process & Pp3c11\\_21910.mRNA  & GO:0000003          \\\\\n",
       "\t GO                   & biological\\_process & Pp3c14\\_10280.mRNA  & GO:0000003          \\\\\n",
       "\\end{tabular}\n"
      ],
      "text/markdown": [
       "\n",
       "| ontology | partition | geneid | ID |\n",
       "|---|---|---|---|\n",
       "| GO                 | biological_process | Pp3c23_17640.mRNA  | GO:0000002         |\n",
       "| GO                 | biological_process | Pp3c8_22090.mRNA   | GO:0000002         |\n",
       "| GO                 | biological_process | Pp3c11_16260.mRNA  | GO:0000003         |\n",
       "| GO                 | biological_process | Pp3c11_20980.mRNA  | GO:0000003         |\n",
       "| GO                 | biological_process | Pp3c11_21910.mRNA  | GO:0000003         |\n",
       "| GO                 | biological_process | Pp3c14_10280.mRNA  | GO:0000003         |\n",
       "\n"
      ],
      "text/plain": [
       "  ontology partition          geneid            ID        \n",
       "1 GO       biological_process Pp3c23_17640.mRNA GO:0000002\n",
       "2 GO       biological_process Pp3c8_22090.mRNA  GO:0000002\n",
       "3 GO       biological_process Pp3c11_16260.mRNA GO:0000003\n",
       "4 GO       biological_process Pp3c11_20980.mRNA GO:0000003\n",
       "5 GO       biological_process Pp3c11_21910.mRNA GO:0000003\n",
       "6 GO       biological_process Pp3c14_10280.mRNA GO:0000003"
      ]
     },
     "metadata": {},
     "output_type": "display_data"
    }
   ],
   "source": [
    "head(AA)"
   ]
  },
  {
   "cell_type": "code",
   "execution_count": 17,
   "metadata": {},
   "outputs": [],
   "source": [
    "O=list(GO=go,PO=po)\n",
    "OI=list(GO=goic,PO=poic)"
   ]
  },
  {
   "cell_type": "code",
   "execution_count": 18,
   "metadata": {},
   "outputs": [],
   "source": [
    "get_name=function(x) {\n",
    "    x=unlist(x)\n",
    "    list(name=O[[x[1]]]$name[x[4]],IC=OI[[x[1]]][x[4]])\n",
    "}\n",
    "AA[, c(\"name\",\"IC\"):=get_name(.SD), by = seq_len(nrow(AA))]"
   ]
  },
  {
   "cell_type": "code",
   "execution_count": 19,
   "metadata": {},
   "outputs": [
    {
     "data": {
      "text/html": [
       "<table>\n",
       "<thead><tr><th scope=col>ontology</th><th scope=col>partition</th><th scope=col>geneid</th><th scope=col>ID</th><th scope=col>name</th><th scope=col>IC</th></tr></thead>\n",
       "<tbody>\n",
       "\t<tr><td>GO                              </td><td>biological_process              </td><td>Pp3c23_17640.mRNA               </td><td>GO:0000002                      </td><td>mitochondrial genome maintenance</td><td>8.686240                        </td></tr>\n",
       "\t<tr><td>GO                              </td><td>biological_process              </td><td>Pp3c8_22090.mRNA                </td><td>GO:0000002                      </td><td>mitochondrial genome maintenance</td><td>8.686240                        </td></tr>\n",
       "\t<tr><td>GO                              </td><td>biological_process              </td><td>Pp3c11_16260.mRNA               </td><td>GO:0000003                      </td><td>reproduction                    </td><td>3.581052                        </td></tr>\n",
       "\t<tr><td>GO                              </td><td>biological_process              </td><td>Pp3c11_20980.mRNA               </td><td>GO:0000003                      </td><td>reproduction                    </td><td>3.581052                        </td></tr>\n",
       "\t<tr><td>GO                              </td><td>biological_process              </td><td>Pp3c11_21910.mRNA               </td><td>GO:0000003                      </td><td>reproduction                    </td><td>3.581052                        </td></tr>\n",
       "\t<tr><td>GO                              </td><td>biological_process              </td><td>Pp3c14_10280.mRNA               </td><td>GO:0000003                      </td><td>reproduction                    </td><td>3.581052                        </td></tr>\n",
       "</tbody>\n",
       "</table>\n"
      ],
      "text/latex": [
       "\\begin{tabular}{r|llllll}\n",
       " ontology & partition & geneid & ID & name & IC\\\\\n",
       "\\hline\n",
       "\t GO                               & biological\\_process             & Pp3c23\\_17640.mRNA              & GO:0000002                       & mitochondrial genome maintenance & 8.686240                        \\\\\n",
       "\t GO                               & biological\\_process             & Pp3c8\\_22090.mRNA               & GO:0000002                       & mitochondrial genome maintenance & 8.686240                        \\\\\n",
       "\t GO                               & biological\\_process             & Pp3c11\\_16260.mRNA              & GO:0000003                       & reproduction                     & 3.581052                        \\\\\n",
       "\t GO                               & biological\\_process             & Pp3c11\\_20980.mRNA              & GO:0000003                       & reproduction                     & 3.581052                        \\\\\n",
       "\t GO                               & biological\\_process             & Pp3c11\\_21910.mRNA              & GO:0000003                       & reproduction                     & 3.581052                        \\\\\n",
       "\t GO                               & biological\\_process             & Pp3c14\\_10280.mRNA              & GO:0000003                       & reproduction                     & 3.581052                        \\\\\n",
       "\\end{tabular}\n"
      ],
      "text/markdown": [
       "\n",
       "| ontology | partition | geneid | ID | name | IC |\n",
       "|---|---|---|---|---|---|\n",
       "| GO                               | biological_process               | Pp3c23_17640.mRNA                | GO:0000002                       | mitochondrial genome maintenance | 8.686240                         |\n",
       "| GO                               | biological_process               | Pp3c8_22090.mRNA                 | GO:0000002                       | mitochondrial genome maintenance | 8.686240                         |\n",
       "| GO                               | biological_process               | Pp3c11_16260.mRNA                | GO:0000003                       | reproduction                     | 3.581052                         |\n",
       "| GO                               | biological_process               | Pp3c11_20980.mRNA                | GO:0000003                       | reproduction                     | 3.581052                         |\n",
       "| GO                               | biological_process               | Pp3c11_21910.mRNA                | GO:0000003                       | reproduction                     | 3.581052                         |\n",
       "| GO                               | biological_process               | Pp3c14_10280.mRNA                | GO:0000003                       | reproduction                     | 3.581052                         |\n",
       "\n"
      ],
      "text/plain": [
       "  ontology partition          geneid            ID        \n",
       "1 GO       biological_process Pp3c23_17640.mRNA GO:0000002\n",
       "2 GO       biological_process Pp3c8_22090.mRNA  GO:0000002\n",
       "3 GO       biological_process Pp3c11_16260.mRNA GO:0000003\n",
       "4 GO       biological_process Pp3c11_20980.mRNA GO:0000003\n",
       "5 GO       biological_process Pp3c11_21910.mRNA GO:0000003\n",
       "6 GO       biological_process Pp3c14_10280.mRNA GO:0000003\n",
       "  name                             IC      \n",
       "1 mitochondrial genome maintenance 8.686240\n",
       "2 mitochondrial genome maintenance 8.686240\n",
       "3 reproduction                     3.581052\n",
       "4 reproduction                     3.581052\n",
       "5 reproduction                     3.581052\n",
       "6 reproduction                     3.581052"
      ]
     },
     "metadata": {},
     "output_type": "display_data"
    }
   ],
   "source": [
    "head(AA)"
   ]
  },
  {
   "cell_type": "code",
   "execution_count": 20,
   "metadata": {},
   "outputs": [
    {
     "data": {
      "text/html": [
       "963649"
      ],
      "text/latex": [
       "963649"
      ],
      "text/markdown": [
       "963649"
      ],
      "text/plain": [
       "[1] 963649"
      ]
     },
     "metadata": {},
     "output_type": "display_data"
    },
    {
     "data": {
      "text/html": [
       "963649"
      ],
      "text/latex": [
       "963649"
      ],
      "text/markdown": [
       "963649"
      ],
      "text/plain": [
       "[1] 963649"
      ]
     },
     "metadata": {},
     "output_type": "display_data"
    }
   ],
   "source": [
    "AAA=unique(AA)\n",
    "nrow(AA)\n",
    "nrow(AAA)"
   ]
  },
  {
   "cell_type": "code",
   "execution_count": 21,
   "metadata": {},
   "outputs": [
    {
     "data": {
      "text/html": [
       "<table>\n",
       "<thead><tr><th scope=col>geneid</th><th scope=col>id</th><th scope=col>name</th><th scope=col>ontology</th><th scope=col>partition</th><th scope=col>ic</th></tr></thead>\n",
       "<tbody>\n",
       "\t<tr><td>Pp3c23_17640.mRNA               </td><td>GO:0000002                      </td><td>mitochondrial genome maintenance</td><td>GO                              </td><td>biological_process              </td><td>8.686240                        </td></tr>\n",
       "\t<tr><td>Pp3c8_22090.mRNA                </td><td>GO:0000002                      </td><td>mitochondrial genome maintenance</td><td>GO                              </td><td>biological_process              </td><td>8.686240                        </td></tr>\n",
       "\t<tr><td>Pp3c11_16260.mRNA               </td><td>GO:0000003                      </td><td>reproduction                    </td><td>GO                              </td><td>biological_process              </td><td>3.581052                        </td></tr>\n",
       "\t<tr><td>Pp3c11_20980.mRNA               </td><td>GO:0000003                      </td><td>reproduction                    </td><td>GO                              </td><td>biological_process              </td><td>3.581052                        </td></tr>\n",
       "\t<tr><td>Pp3c11_21910.mRNA               </td><td>GO:0000003                      </td><td>reproduction                    </td><td>GO                              </td><td>biological_process              </td><td>3.581052                        </td></tr>\n",
       "\t<tr><td>Pp3c14_10280.mRNA               </td><td>GO:0000003                      </td><td>reproduction                    </td><td>GO                              </td><td>biological_process              </td><td>3.581052                        </td></tr>\n",
       "</tbody>\n",
       "</table>\n"
      ],
      "text/latex": [
       "\\begin{tabular}{r|llllll}\n",
       " geneid & id & name & ontology & partition & ic\\\\\n",
       "\\hline\n",
       "\t Pp3c23\\_17640.mRNA              & GO:0000002                       & mitochondrial genome maintenance & GO                               & biological\\_process             & 8.686240                        \\\\\n",
       "\t Pp3c8\\_22090.mRNA               & GO:0000002                       & mitochondrial genome maintenance & GO                               & biological\\_process             & 8.686240                        \\\\\n",
       "\t Pp3c11\\_16260.mRNA              & GO:0000003                       & reproduction                     & GO                               & biological\\_process             & 3.581052                        \\\\\n",
       "\t Pp3c11\\_20980.mRNA              & GO:0000003                       & reproduction                     & GO                               & biological\\_process             & 3.581052                        \\\\\n",
       "\t Pp3c11\\_21910.mRNA              & GO:0000003                       & reproduction                     & GO                               & biological\\_process             & 3.581052                        \\\\\n",
       "\t Pp3c14\\_10280.mRNA              & GO:0000003                       & reproduction                     & GO                               & biological\\_process             & 3.581052                        \\\\\n",
       "\\end{tabular}\n"
      ],
      "text/markdown": [
       "\n",
       "| geneid | id | name | ontology | partition | ic |\n",
       "|---|---|---|---|---|---|\n",
       "| Pp3c23_17640.mRNA                | GO:0000002                       | mitochondrial genome maintenance | GO                               | biological_process               | 8.686240                         |\n",
       "| Pp3c8_22090.mRNA                 | GO:0000002                       | mitochondrial genome maintenance | GO                               | biological_process               | 8.686240                         |\n",
       "| Pp3c11_16260.mRNA                | GO:0000003                       | reproduction                     | GO                               | biological_process               | 3.581052                         |\n",
       "| Pp3c11_20980.mRNA                | GO:0000003                       | reproduction                     | GO                               | biological_process               | 3.581052                         |\n",
       "| Pp3c11_21910.mRNA                | GO:0000003                       | reproduction                     | GO                               | biological_process               | 3.581052                         |\n",
       "| Pp3c14_10280.mRNA                | GO:0000003                       | reproduction                     | GO                               | biological_process               | 3.581052                         |\n",
       "\n"
      ],
      "text/plain": [
       "  geneid            id         name                             ontology\n",
       "1 Pp3c23_17640.mRNA GO:0000002 mitochondrial genome maintenance GO      \n",
       "2 Pp3c8_22090.mRNA  GO:0000002 mitochondrial genome maintenance GO      \n",
       "3 Pp3c11_16260.mRNA GO:0000003 reproduction                     GO      \n",
       "4 Pp3c11_20980.mRNA GO:0000003 reproduction                     GO      \n",
       "5 Pp3c11_21910.mRNA GO:0000003 reproduction                     GO      \n",
       "6 Pp3c14_10280.mRNA GO:0000003 reproduction                     GO      \n",
       "  partition          ic      \n",
       "1 biological_process 8.686240\n",
       "2 biological_process 8.686240\n",
       "3 biological_process 3.581052\n",
       "4 biological_process 3.581052\n",
       "5 biological_process 3.581052\n",
       "6 biological_process 3.581052"
      ]
     },
     "metadata": {},
     "output_type": "display_data"
    }
   ],
   "source": [
    "names(AAA)=tolower(names(AAA))\n",
    "AAA=AAA[,c(3,4,5,1,2,6)]\n",
    "head(AAA)"
   ]
  },
  {
   "cell_type": "code",
   "execution_count": 22,
   "metadata": {},
   "outputs": [
    {
     "data": {
      "text/html": [
       "TRUE"
      ],
      "text/latex": [
       "TRUE"
      ],
      "text/markdown": [
       "TRUE"
      ],
      "text/plain": [
       "[1] TRUE"
      ]
     },
     "metadata": {},
     "output_type": "display_data"
    }
   ],
   "source": [
    "dbWriteTable(con, c(\"physcogrn\",\"ontology\"), as.data.frame(AAA), row.names=FALSE, append=TRUE)"
   ]
  }
 ],
 "metadata": {
  "kernelspec": {
   "display_name": "R [conda env:ontology]",
   "language": "R",
   "name": "conda-env-ontology-r"
  },
  "language_info": {
   "codemirror_mode": "r",
   "file_extension": ".r",
   "mimetype": "text/x-r-source",
   "name": "R",
   "pygments_lexer": "r",
   "version": "3.5.1"
  }
 },
 "nbformat": 4,
 "nbformat_minor": 4
}
